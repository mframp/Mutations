{
 "metadata": {
  "name": "",
  "signature": "sha256:8b0f0d45f2c71d14ecc658ed8519c257e80a878421723c87947c311d91b11a72"
 },
 "nbformat": 3,
 "nbformat_minor": 0,
 "worksheets": [
  {
   "cells": [
    {
     "cell_type": "heading",
     "level": 2,
     "metadata": {},
     "source": [
      "Mutation Data Parsers"
     ]
    },
    {
     "cell_type": "code",
     "collapsed": false,
     "input": [
      "import sys\n",
      "import argparse\n",
      "import re\n",
      "\n",
      "\n",
      "# if you want a specific column must pass in col - 1, because we delete first column\n",
      "def parseGeneData(drugName, geneIndices, tissue = None):\n",
      "    inFile = open(\"gdsc_manova_input_w5_unix.csv\", \"r\")\n",
      "\n",
      "    inData = [line.rstrip().split(\",\") for line in inFile]\n",
      "    inData = [row[1:] for row in inData if row[0] != \"\"]\n",
      "    tissueIndex = 2\n",
      "    \n",
      "    headerItems = inData.pop(0)\n",
      "    \n",
      "    drugIndex = headerItems.index(drugName)\n",
      "    geneIndices.append(drugIndex)\n",
      "    \n",
      "    # Keep rows of specific tissue type\n",
      "    if tissue is not None:\n",
      "        inData = [row for row in inData if row[tissueIndex] == tissue]\n",
      "        \n",
      "    inData = [[row[i] for i in range(len(headerItems)) if i in geneIndices] for row in inData]\n",
      "    headerItems = [headerItems[i] for i in geneIndices]\n",
      "    \n",
      "    # Pop old drugIndex and get drugIndex again because list indicies changed\n",
      "    geneIndices.pop()\n",
      "    drugIndex = headerItems.index(drugName)\n",
      "    geneIndices.append(drugIndex)\n",
      "    \n",
      "#     print headerItems, \"drugIndex:\", drugIndex\n",
      "#     print \"row len:\", len(inData[0]), inData[0] \n",
      "\n",
      "    # Remove rows that don't have a drugResponse\n",
      "    inData = [row for row in inData if row[drugIndex] != \"\"]\n",
      "\n",
      "    # Remove columns that contain NA values\n",
      "    missingColumnIndices = set()\n",
      "    for row in inData:\n",
      "        for i in range(len(headerItems)):\n",
      "            if row[i].startswith(\"na::\"):\n",
      "                missingColumnIndices.add(i)\n",
      " \n",
      "    drugValues = [row[drugIndex] for row in inData]\n",
      "    inData = [[row[i] for i in range(len(headerItems)) if i != drugIndex and i not in missingColumnIndices] for row in inData]\n",
      "\n",
      "    # Convert mutated = 1, wild type = 0\n",
      "    for i in range(len(inData)):\n",
      "        for j in range(len(inData[0])):\n",
      "            # mutations or amplifications\n",
      "            if '::>=8' in inData[i][j] or 'p' in inData[i][j]:\n",
      "                inData[i][j] = 1\n",
      "            # normal\n",
      "            if inData[i][j] == 'wt::0<cn<8' or inData[i][j] == 'wt::nci' or inData[i][j] == 'wt::0':\n",
      "                inData[i][j] = 0\n",
      "            # not analyzed, this check shouldn't be needed anymore\n",
      "            if inData[i][j] == 'na::0<cn<8' or inData[i][j] == 'na::nci' or inData[i][j] == 'na::0':\n",
      "                inData[i][j] = '555'\n",
      "                print \"---- Should never reach here! ----\"\n",
      "\n",
      "    # Convert Response column: response = 1, noResponse = 0\n",
      "    for i in range(len(drugValues)):\n",
      "        if float(drugValues[i]) < 0:\n",
      "            drugValues[i] = 1\n",
      "        # No response\n",
      "        else:\n",
      "            drugValues[i] = 0                \n",
      "     \n",
      "    return inData, drugValues\n",
      "\n"
     ],
     "language": "python",
     "metadata": {},
     "outputs": [],
     "prompt_number": 186
    },
    {
     "cell_type": "code",
     "collapsed": false,
     "input": [
      "from sklearn import svm\n",
      "from sklearn import cross_validation\n",
      "from sklearn.metrics import roc_auc_score\n",
      "\n",
      "import sys\n",
      "import argparse\n",
      "import re\n",
      "import numpy\n",
      "\n",
      "def classify(inFileName):\n",
      "    inFile = open(inFileName + \".txt\", \"r\")\n",
      "\n",
      "    data = [line.rstrip().split(\"\\t\") for line in inFile]\n",
      "    headerItems = data.pop(0)    \n",
      "    data = [[int(x) for x in row] for row in data]\n",
      "    \n",
      "    X = numpy.array([row[:-1] for row in data])\n",
      "    y = numpy.array([row[-1] for row in data])\n",
      "    \n",
      "    clf = svm.SVC(probability=True) \n",
      "    skf = cross_validation.StratifiedKFold(y, n_folds=10, shuffle=False, random_state=1)\n",
      "    #scores = cross_validation.cross_val_score(clf, X, y, cv=10, n_jobs=1)\n",
      "    scores = cross_validation.cross_val_score(clf, X, y, cv=skf, n_jobs=1)\n",
      "\n",
      "    print scores\n",
      "    print sum(scores) / float(len(scores))\n",
      "    \n",
      "def classify2(X, y):\n",
      "    \n",
      "    X = numpy.array(X)\n",
      "    y = numpy.array(y)\n",
      "\n",
      "    clf = svm.SVC(probability=True) \n",
      "    skf = cross_validation.StratifiedKFold(y, n_folds=10, shuffle=False, random_state=1)\n",
      "    #scores = cross_validation.cross_val_score(clf, X, y, cv=10, n_jobs=1)\n",
      "    scores = cross_validation.cross_val_score(clf, X, y, cv=skf, n_jobs=1)\n",
      "\n",
      "    print scores\n",
      "    print sum(scores) / float(len(scores))\n",
      "\n",
      "def classify3(X, y):\n",
      "    \n",
      "    X = numpy.array(X)\n",
      "    y = numpy.array(y)\n",
      "\n",
      "    skf = cross_validation.StratifiedKFold(y, n_folds=5, shuffle=False, random_state=1)\n",
      "\n",
      "    foldScores = []\n",
      "    \n",
      "    for train_index, test_index in skf:\n",
      "        X_train, X_test = X[train_index], X[test_index]\n",
      "        y_train, y_test = y[train_index], y[test_index]\n",
      "\n",
      "        clf = svm.SVC(probability=True, random_state=0).fit(X_train, y_train)\n",
      "        y_predictions = clf.predict_proba(X_test)[:,1]\n",
      "        foldScores.append(roc_auc_score(y_test, y_predictions))\n",
      " \n",
      "    print foldScores\n",
      "    print sum(foldScores) / float(len(foldScores))"
     ],
     "language": "python",
     "metadata": {},
     "outputs": [],
     "prompt_number": 187
    },
    {
     "cell_type": "heading",
     "level": 2,
     "metadata": {},
     "source": [
      "LUAD with EGFR and KRAS - mutation data"
     ]
    },
    {
     "cell_type": "code",
     "collapsed": false,
     "input": [
      "data, responses = parseGeneData('BIBW2992_IC_50', [21,39], \"lung_NSCLC_adenocarcinoma\")\n",
      "print \"Number of rows of data:\", len(data)\n",
      "# print data\n",
      "# print responses\n",
      "classify3(data, responses)"
     ],
     "language": "python",
     "metadata": {},
     "outputs": [
      {
       "output_type": "stream",
       "stream": "stdout",
       "text": [
        "['EGFR', 'KRAS', 'BIBW2992_IC_50'] drugIndex: 2\n",
        "Number of rows of data: 50\n",
        "[0.4375, 0.75, 0.75, 0.75, 0.75]\n",
        "0.6875\n"
       ]
      }
     ],
     "prompt_number": 99
    },
    {
     "cell_type": "heading",
     "level": 2,
     "metadata": {},
     "source": [
      "LUAD with all genes - mutation data"
     ]
    },
    {
     "cell_type": "code",
     "collapsed": false,
     "input": [
      "# range is exclusive and we delete first column (goes 5-71 of original) \n",
      "X, y = parseGeneData('BIBW2992_IC_50', range(4,71), \"lung_NSCLC_adenocarcinoma\")\n",
      "print \"Number of rows of data:\", len(data)\n",
      "classify3(X,y)\n",
      "# classify2(X,y)"
     ],
     "language": "python",
     "metadata": {},
     "outputs": [
      {
       "output_type": "stream",
       "stream": "stdout",
       "text": [
        "['AKT2', 'ALK', 'APC', 'BRAF', 'BRCA1', 'BRCA2', 'CCND1', 'CCND2', 'CCND3', 'CDH1', 'CDK4', 'CDK6', 'CDKN2A', 'CDKN2C', 'CDKN2a(p14)', 'CTNNB1', 'CYLD', 'EGFR', 'EP300', 'ERBB2', 'EZH2', 'FAM123B', 'FBXW7', 'FGFR2', 'FGFR3', 'FLCN', 'FLT3', 'GNAS', 'HRAS', 'IDH1', 'JAK2', 'KDM5C', 'KDM6A', 'KDR', 'KIT', 'KRAS', 'MAP2K4', 'MDM2', 'MET', 'MLH1', 'MLLT3', 'MSH2', 'MSH6', 'MYC', 'MYCL1', 'MYCN', 'NF1', 'NF2', 'NOTCH1', 'NRAS', 'PDGFRA', 'PIK3CA', 'PIK3R1', 'PTEN', 'RB1', 'RUNX1', 'SETD2', 'SMAD4', 'SMARCA4', 'SMARCB1', 'SMO', 'SOCS1', 'STK11', 'TET2', 'TP53', 'TSC1', 'VHL', 'BIBW2992_IC_50'] drugIndex: 67\n",
        "Number of rows of data: 50\n",
        "[0.29166666666666663, 0.9375, 0.09375, 0.0625, 0.7142857142857143]\n",
        "0.41994047619\n"
       ]
      }
     ],
     "prompt_number": 100
    },
    {
     "cell_type": "heading",
     "level": 2,
     "metadata": {},
     "source": [
      "All Cancers with all genes - mutation data"
     ]
    },
    {
     "cell_type": "code",
     "collapsed": false,
     "input": [
      "X, y = parseGeneData('BIBW2992_IC_50', range(4,71))\n",
      "print \"Number of rows of data:\", len(data)\n",
      "classify3(X,y)\n",
      "# classify2(X,y)"
     ],
     "language": "python",
     "metadata": {},
     "outputs": [
      {
       "output_type": "stream",
       "stream": "stdout",
       "text": [
        "['AKT2', 'ALK', 'APC', 'BRAF', 'BRCA1', 'BRCA2', 'CCND1', 'CCND2', 'CCND3', 'CDH1', 'CDK4', 'CDK6', 'CDKN2A', 'CDKN2C', 'CDKN2a(p14)', 'CTNNB1', 'CYLD', 'EGFR', 'EP300', 'ERBB2', 'EZH2', 'FAM123B', 'FBXW7', 'FGFR2', 'FGFR3', 'FLCN', 'FLT3', 'GNAS', 'HRAS', 'IDH1', 'JAK2', 'KDM5C', 'KDM6A', 'KDR', 'KIT', 'KRAS', 'MAP2K4', 'MDM2', 'MET', 'MLH1', 'MLLT3', 'MSH2', 'MSH6', 'MYC', 'MYCL1', 'MYCN', 'NF1', 'NF2', 'NOTCH1', 'NRAS', 'PDGFRA', 'PIK3CA', 'PIK3R1', 'PTEN', 'RB1', 'RUNX1', 'SETD2', 'SMAD4', 'SMARCA4', 'SMARCB1', 'SMO', 'SOCS1', 'STK11', 'TET2', 'TP53', 'TSC1', 'VHL', 'BIBW2992_IC_50'] drugIndex: 67\n",
        "Number of rows of data:"
       ]
      },
      {
       "output_type": "stream",
       "stream": "stdout",
       "text": [
        " 50\n",
        "[0.6240112994350282, 0.60621468926553668, 0.50960451977401133, 0.73931623931623924, 0.70256410256410251]"
       ]
      },
      {
       "output_type": "stream",
       "stream": "stdout",
       "text": [
        "\n",
        "0.636342170071\n"
       ]
      }
     ],
     "prompt_number": 101
    },
    {
     "cell_type": "heading",
     "level": 2,
     "metadata": {},
     "source": [
      "All Cancers with EGFR and KRAS - mutation data"
     ]
    },
    {
     "cell_type": "code",
     "collapsed": false,
     "input": [
      "data, responses = parseGeneData('BIBW2992_IC_50', [21,39])\n",
      "print \"Number of rows of data:\", len(data)\n",
      "classify3(data, responses)"
     ],
     "language": "python",
     "metadata": {},
     "outputs": [
      {
       "output_type": "stream",
       "stream": "stdout",
       "text": [
        "['EGFR', 'KRAS', 'BIBW2992_IC_50'] drugIndex: 2\n",
        "Number of rows of data: 663\n",
        "[0.5, 0.5, 0.5, 0.5, 0.5]"
       ]
      },
      {
       "output_type": "stream",
       "stream": "stdout",
       "text": [
        "\n",
        "0.5\n"
       ]
      }
     ],
     "prompt_number": 102
    },
    {
     "cell_type": "heading",
     "level": 2,
     "metadata": {},
     "source": [
      "Glioma with all genes - mutation data (different drug needed)"
     ]
    },
    {
     "cell_type": "code",
     "collapsed": false,
     "input": [
      "X, y = parseGeneData('A-443654_IC_50', range(4,71), \"glioma\")\n",
      "print y\n",
      "print \"Number of rows of data:\", len(data)\n",
      "classify3(X,y)"
     ],
     "language": "python",
     "metadata": {},
     "outputs": [
      {
       "output_type": "stream",
       "stream": "stdout",
       "text": [
        "['AKT2', 'ALK', 'APC', 'BRAF', 'BRCA1', 'BRCA2', 'CCND1', 'CCND2', 'CCND3', 'CDH1', 'CDK4', 'CDK6', 'CDKN2A', 'CDKN2C', 'CDKN2a(p14)', 'CTNNB1', 'CYLD', 'EGFR', 'EP300', 'ERBB2', 'EZH2', 'FAM123B', 'FBXW7', 'FGFR2', 'FGFR3', 'FLCN', 'FLT3', 'GNAS', 'HRAS', 'IDH1', 'JAK2', 'KDM5C', 'KDM6A', 'KDR', 'KIT', 'KRAS', 'MAP2K4', 'MDM2', 'MET', 'MLH1', 'MLLT3', 'MSH2', 'MSH6', 'MYC', 'MYCL1', 'MYCN', 'NF1', 'NF2', 'NOTCH1', 'NRAS', 'PDGFRA', 'PIK3CA', 'PIK3R1', 'PTEN', 'RB1', 'RUNX1', 'SETD2', 'SMAD4', 'SMARCA4', 'SMARCB1', 'SMO', 'SOCS1', 'STK11', 'TET2', 'TP53', 'TSC1', 'VHL', 'A-443654_IC_50'] drugIndex: 67\n",
        "[1, 1, 0, 1, 0, 0, 1, 1, 1, 1, 1, 1, 1, 1, 1, 1, 0, 0, 0, 1, 0, 1, 0]"
       ]
      },
      {
       "output_type": "stream",
       "stream": "stdout",
       "text": [
        "\n",
        "Number of rows of data: 23\n",
        "[0.83333333333333326, 0.83333333333333326, 0.33333333333333331, 0.33333333333333331, 1.0]\n",
        "0.666666666667\n"
       ]
      }
     ],
     "prompt_number": 180
    },
    {
     "cell_type": "heading",
     "level": 2,
     "metadata": {},
     "source": [
      "Glioma with EGFR - mutation data (different drug needed)"
     ]
    },
    {
     "cell_type": "code",
     "collapsed": false,
     "input": [
      "data, responses = parseGeneData('A-443654_IC_50', [21], \"glioma\")\n",
      "print \"Number of rows of data:\", len(data)\n",
      "classify3(data, responses)"
     ],
     "language": "python",
     "metadata": {},
     "outputs": [
      {
       "output_type": "stream",
       "stream": "stdout",
       "text": [
        "['EGFR', 'A-443654_IC_50'] drugIndex: 1\n",
        "Number of rows of data: 23\n",
        "[0.5, 0.5, 0.5, 0.5, 0.33333333333333331]\n",
        "0.466666666667\n"
       ]
      }
     ],
     "prompt_number": 173
    },
    {
     "cell_type": "heading",
     "level": 2,
     "metadata": {},
     "source": [
      "Map cell lines between gene_expression file and cell_lines file"
     ]
    },
    {
     "cell_type": "code",
     "collapsed": false,
     "input": [],
     "language": "python",
     "metadata": {},
     "outputs": []
    },
    {
     "cell_type": "code",
     "collapsed": false,
     "input": [
      "import sys\n",
      "import re\n",
      "\n",
      "def findSimilarCellLines(drugName, tissue = None):\n",
      "    mutationFile = open(\"gdsc_manova_input_w5_unix.csv\", \"r\")\n",
      "    expressionFile = open(\"GDSC_SCANr_BrainArray_Symbols_Mapped_Cell_Lines_names.txt\", \"r\")\n",
      "\n",
      "#     drugName = 'BIBW2992_IC_50'\n",
      "    cellLines = []\n",
      "    similarLines = []\n",
      "    different= []\n",
      "\n",
      "    # Read first line and get index of a certain drug\n",
      "    headers = mutationFile.readline().strip().split(',')\n",
      "    responseIndex = headers.index(drugName)\n",
      "#     print 'response index:', responseIndex\n",
      "\n",
      "    mutationData = [row.strip().split(',') for row in mutationFile]\n",
      "    tissueIndex = headers.index(\"Tissue\")\n",
      "#     print \"tissue index:\", tissueIndex\n",
      "    \n",
      "    # Check for specific tissue type\n",
      "    if tissue is not None:\n",
      "        mutationData = [row for row in mutationData if row[tissueIndex] == tissue]\n",
      "    \n",
      "    # Check if drug response is blank\n",
      "    cellLines = [row[0] for row in mutationData if row[responseIndex] != '']\n",
      "    \n",
      "\n",
      "    # Read in cell line names from gene expression outFile and find intersection with cellLines that have drug response\n",
      "    lineItems = expressionFile.readline().strip().split('\\t')\n",
      "    for c in cellLines:\n",
      "        if c in lineItems and c not in similarLines:\n",
      "            similarLines.append(c)\n",
      "        else:\n",
      "            different.append(c)           \n",
      "\n",
      "    responses = [row[responseIndex] for row in mutationData if row[responseIndex] != '' and row[0] in similarLines]\n",
      "    responses = [1 if (float(response) < 0) else 0 for response in responses]\n",
      "    \n",
      "    # cellLineName => response\n",
      "    responseDict = {}\n",
      "    for row in mutationData:\n",
      "         if row[responseIndex] != '' and row[0] in similarLines:\n",
      "                responseDict[row[0]] = 1 if (float(row[responseIndex]) < 0) else 0\n",
      "    \n",
      "#     print \"Number of similar cell lines:\", len(similarLines)\n",
      "#     print \"Number of different cell lines:\", len(different)\n",
      "#     print \"Number of responses saved:\", len(responses)\n",
      "\n",
      "    \n",
      "    mutationFile.close()\n",
      "    expressionFile.close()\n",
      "    \n",
      "    return similarLines, responseDict #responses"
     ],
     "language": "python",
     "metadata": {},
     "outputs": [],
     "prompt_number": 163
    },
    {
     "cell_type": "code",
     "collapsed": false,
     "input": [
      "from collections import Counter\n",
      "\n",
      "def parseGeneExpressionBySimilarLines(drugName, tissue = None):\n",
      "    similarLines, responsesDict = findSimilarCellLines(drugName, tissue)\n",
      "        \n",
      "    expressionFile = open(\"GDSC_SCANr_BrainArray_Symbols_Mapped_Cell_Lines_names.txt\", \"r\")\n",
      "    data = [line.rstrip().split(\"\\t\") for line in expressionFile]  \n",
      "        \n",
      "    headers = data[0]\n",
      "    matchingIndices = [i for i,header in enumerate(headers) if header in similarLines]     \n",
      "    duplicates = [header for header,count in Counter(headers).items() if count > 1]\n",
      "    # Quick fix: add extra copy of triple occurance\n",
      "    duplicates.append('NCI-H1437')\n",
      "#     print \"duplicates:\", len(duplicates), duplicates\n",
      "        \n",
      "    # Take out duplicates and the one triplet\n",
      "    indices = []\n",
      "    for i in matchingIndices:\n",
      "        if headers[i] not in duplicates:\n",
      "            indices.append(i)\n",
      "        else:\n",
      "            duplicates.remove(headers[i])\n",
      "    \n",
      "    # Save the matching columns\n",
      "    data = [[row[i] for i in indices] for row in data]\n",
      "    \n",
      "    headers = data.pop(0)\n",
      "#     print headers\n",
      "    # Make responses dictionary a list that matches the order of the cellLine file headers\n",
      "    responsesList = [responsesDict[col] for col in headers]\n",
      "    \n",
      "    # Remove header row from\n",
      "    \n",
      "    expressionFile.close()\n",
      "#     print \"lengths should match:\", len(data[0]), len(responsesDict), len(responsesList)\n",
      "    \n",
      "    return data, responsesList"
     ],
     "language": "python",
     "metadata": {},
     "outputs": [],
     "prompt_number": 167
    },
    {
     "cell_type": "code",
     "collapsed": false,
     "input": [
      "def classifyByGeneExpression(inExpressionFile, responsesList):\n",
      "\n",
      "        \n",
      "#     X = numpy.loadtxt(inExpressionFile, skiprows=1, unpack=True)\n",
      "    X = numpy.transpose(numpy.loadtxt(inExpressionFile, skiprows=1))\n",
      "    y = numpy.transpose(numpy.array(responsesList))\n",
      "    print len(X), len(y)\n",
      "\n",
      "    clf = svm.SVC(probability=True) \n",
      "    scores = cross_validation.cross_val_score(clf, X, y, cv=8, n_jobs=3)\n",
      "    print scores\n",
      "    print sum(scores) / float(len(scores))\n",
      "    \n",
      "def classifyGene(X, y):\n",
      "\n",
      "#     data = inData\n",
      "#     headerItems = data.pop(0)    \n",
      "#     data = [[int(x) for x in row] for row in data]\n",
      "    \n",
      "    X = numpy.transpose(X)\n",
      "    y = numpy.array(y)\n",
      "\n",
      "    skf = cross_validation.StratifiedKFold(y, n_folds=5, shuffle=False, random_state=1)\n",
      "\n",
      "    foldScores = []\n",
      "    \n",
      "    for train_index, test_index in skf:\n",
      "        X_train, X_test = X[train_index], X[test_index]\n",
      "        y_train, y_test = y[train_index], y[test_index]\n",
      "\n",
      "        clf = svm.SVC(probability=True).fit(X_train, y_train)\n",
      "        y_predictions = clf.predict_proba(X_test)[:,1]\n",
      "        foldScores.append(roc_auc_score(y_test, y_predictions))\n",
      "     \n",
      "    print foldScores\n",
      "    average = sum(foldScores) / float(len(foldScores))\n",
      "    print average\n",
      "    return average"
     ],
     "language": "python",
     "metadata": {},
     "outputs": [],
     "prompt_number": 183
    },
    {
     "cell_type": "heading",
     "level": 2,
     "metadata": {},
     "source": [
      "All cancers with gene expression data"
     ]
    },
    {
     "cell_type": "code",
     "collapsed": false,
     "input": [
      "X, y = parseGeneExpressionBySimilarLines(\"BIBW2992_IC_50\")\n",
      "classifyGene(X,y)"
     ],
     "language": "python",
     "metadata": {},
     "outputs": [
      {
       "output_type": "stream",
       "stream": "stdout",
       "text": [
        "Number of similar cell lines: 617\n",
        "Number of different cell lines: 51\n",
        "Number of responses saved: 617\n",
        "lengths should match:"
       ]
      },
      {
       "output_type": "stream",
       "stream": "stdout",
       "text": [
        " 617 617 617\n",
        "[0.71336553945249592, 0.75362318840579712, 0.74718196457326891, 0.66485507246376807, 0.84239130434782605, 0.82246376811594202, 0.84742647058823528, 0.88786764705882348]"
       ]
      },
      {
       "output_type": "stream",
       "stream": "stdout",
       "text": [
        "\n",
        "0.784896869376\n"
       ]
      }
     ],
     "prompt_number": 128
    },
    {
     "cell_type": "heading",
     "level": 2,
     "metadata": {},
     "source": [
      "LUAD with gene expression data"
     ]
    },
    {
     "cell_type": "code",
     "collapsed": false,
     "input": [
      "X, y = parseGeneExpressionBySimilarLines(\"BIBW2992_IC_50\",\"lung_NSCLC_adenocarcinoma\")\n",
      "classifyGene(X,y)"
     ],
     "language": "python",
     "metadata": {},
     "outputs": [
      {
       "output_type": "stream",
       "stream": "stdout",
       "text": [
        "Number of similar cell lines: 44\n",
        "Number of different cell lines: 6\n",
        "Number of responses saved: 44\n",
        "lengths should match:"
       ]
      },
      {
       "output_type": "stream",
       "stream": "stdout",
       "text": [
        " 44 44 44\n",
        "[0.19999999999999996, 0.19999999999999996, 0.19999999999999996, 0.75, 0.5, 0.0, 1.0, 1.0]"
       ]
      },
      {
       "output_type": "stream",
       "stream": "stdout",
       "text": [
        "\n",
        "0.48125\n"
       ]
      }
     ],
     "prompt_number": 160
    },
    {
     "cell_type": "heading",
     "level": 2,
     "metadata": {},
     "source": [
      "Glioma with gene expression data"
     ]
    },
    {
     "cell_type": "code",
     "collapsed": false,
     "input": [
      "X, y = parseGeneExpressionBySimilarLines(\"A-443654_IC_50\", \"glioma\")\n",
      "print y\n",
      "classifyGene(X,y)"
     ],
     "language": "python",
     "metadata": {},
     "outputs": [
      {
       "output_type": "stream",
       "stream": "stdout",
       "text": [
        "[1, 1, 1, 1, 1, 0, 1, 0, 1, 1, 1, 0, 1, 1, 0, 0, 0, 1, 0, 1, 0]\n",
        "[0.0, 0.75, 0.5, 1.0, 0.0, 1.0, 0.0, 0.0]"
       ]
      },
      {
       "output_type": "stream",
       "stream": "stdout",
       "text": [
        "\n",
        "0.40625\n"
       ]
      }
     ],
     "prompt_number": 172
    },
    {
     "cell_type": "code",
     "collapsed": false,
     "input": [
      "def getDrugList():\n",
      "    inFile = open(\"gdsc_manova_input_w5_unix.csv\", \"r\")\n",
      "    headers = inFile.readline().rstrip().split(\",\")\n",
      "    drugs = headers[75:]\n",
      "    drugList = list(set(drugs))\n",
      "    \n",
      "#     print len(drugList), type(drugList)\n",
      "    return drugList\n",
      "\n",
      "# getDrugList()"
     ],
     "language": "python",
     "metadata": {},
     "outputs": [],
     "prompt_number": 162
    },
    {
     "cell_type": "heading",
     "level": 2,
     "metadata": {},
     "source": [
      "All Cancers and All Drugs with gene expression data"
     ]
    },
    {
     "cell_type": "code",
     "collapsed": false,
     "input": [
      "drugs = getDrugList()\n",
      "drugToScore = {}\n",
      "# drugs = drugs[1650:]\n",
      "for i,drug in enumerate(drugs):\n",
      "    X, y = parseGeneExpressionBySimilarLines(drug)\n",
      "    if 0 in y and 1 in y and len(X) > 30:\n",
      "        print i, drug, \"------------------\"\n",
      "#         print y\n",
      "        average = classifyGene(X,y)\n",
      "        drugToScore[drug] = average"
     ],
     "language": "python",
     "metadata": {},
     "outputs": [
      {
       "output_type": "stream",
       "stream": "stdout",
       "text": [
        "4 AZD8055_IC_90 ------------------\n",
        "[0.83057851239669422, 0.95867768595041325, 0.85123966942148754, 0.93388429752066116, 0.96666666666666667]"
       ]
      },
      {
       "output_type": "stream",
       "stream": "stdout",
       "text": [
        "\n",
        "0.908209366391\n",
        "6"
       ]
      },
      {
       "output_type": "stream",
       "stream": "stdout",
       "text": [
        " PF-562271_IC_25 ------------------\n",
        "[0.65440000000000009, 0.60040000000000016, 0.58916666666666662, 0.5774999999999999, 0.63047138047138052]"
       ]
      },
      {
       "output_type": "stream",
       "stream": "stdout",
       "text": [
        "\n",
        "0.610387609428\n",
        "8"
       ]
      },
      {
       "output_type": "stream",
       "stream": "stdout",
       "text": [
        " S-Trityl-L-cysteine_IC_25 ------------------\n",
        "[0.50640394088669949, 0.56847290640394088, 0.6673469387755101, 0.6540816326530613, 0.72689075630252098]"
       ]
      },
      {
       "output_type": "stream",
       "stream": "stdout",
       "text": [
        "\n",
        "0.624639235004\n",
        "10"
       ]
      },
      {
       "output_type": "stream",
       "stream": "stdout",
       "text": [
        " CMK_IC_50 ------------------\n"
       ]
      },
      {
       "ename": "ValueError",
       "evalue": "Only one class present in y_true. ROC AUC score is not defined in that case.",
       "output_type": "pyerr",
       "traceback": [
        "\u001b[0;31m---------------------------------------------------------------------------\u001b[0m\n\u001b[0;31mValueError\u001b[0m                                Traceback (most recent call last)",
        "\u001b[0;32m<ipython-input-184-30130be070f5>\u001b[0m in \u001b[0;36m<module>\u001b[0;34m()\u001b[0m\n\u001b[1;32m      8\u001b[0m \u001b[0;31m#         print y\u001b[0m\u001b[0;34m\u001b[0m\u001b[0;34m\u001b[0m\u001b[0m\n\u001b[1;32m      9\u001b[0m         \u001b[0;31m# print \"Number of rows of data:\", len(data)\u001b[0m\u001b[0;34m\u001b[0m\u001b[0;34m\u001b[0m\u001b[0m\n\u001b[0;32m---> 10\u001b[0;31m         \u001b[0maverage\u001b[0m \u001b[0;34m=\u001b[0m \u001b[0mclassifyGene\u001b[0m\u001b[0;34m(\u001b[0m\u001b[0mX\u001b[0m\u001b[0;34m,\u001b[0m\u001b[0my\u001b[0m\u001b[0;34m)\u001b[0m\u001b[0;34m\u001b[0m\u001b[0m\n\u001b[0m\u001b[1;32m     11\u001b[0m         \u001b[0mdrugToScore\u001b[0m\u001b[0;34m[\u001b[0m\u001b[0mdrug\u001b[0m\u001b[0;34m]\u001b[0m \u001b[0;34m=\u001b[0m \u001b[0maverage\u001b[0m\u001b[0;34m\u001b[0m\u001b[0m\n",
        "\u001b[0;32m<ipython-input-183-28a62d015042>\u001b[0m in \u001b[0;36mclassifyGene\u001b[0;34m(X, y)\u001b[0m\n\u001b[1;32m     31\u001b[0m         \u001b[0mclf\u001b[0m \u001b[0;34m=\u001b[0m \u001b[0msvm\u001b[0m\u001b[0;34m.\u001b[0m\u001b[0mSVC\u001b[0m\u001b[0;34m(\u001b[0m\u001b[0mprobability\u001b[0m\u001b[0;34m=\u001b[0m\u001b[0mTrue\u001b[0m\u001b[0;34m)\u001b[0m\u001b[0;34m.\u001b[0m\u001b[0mfit\u001b[0m\u001b[0;34m(\u001b[0m\u001b[0mX_train\u001b[0m\u001b[0;34m,\u001b[0m \u001b[0my_train\u001b[0m\u001b[0;34m)\u001b[0m\u001b[0;34m\u001b[0m\u001b[0m\n\u001b[1;32m     32\u001b[0m         \u001b[0my_predictions\u001b[0m \u001b[0;34m=\u001b[0m \u001b[0mclf\u001b[0m\u001b[0;34m.\u001b[0m\u001b[0mpredict_proba\u001b[0m\u001b[0;34m(\u001b[0m\u001b[0mX_test\u001b[0m\u001b[0;34m)\u001b[0m\u001b[0;34m[\u001b[0m\u001b[0;34m:\u001b[0m\u001b[0;34m,\u001b[0m\u001b[0;36m1\u001b[0m\u001b[0;34m]\u001b[0m\u001b[0;34m\u001b[0m\u001b[0m\n\u001b[0;32m---> 33\u001b[0;31m         \u001b[0mfoldScores\u001b[0m\u001b[0;34m.\u001b[0m\u001b[0mappend\u001b[0m\u001b[0;34m(\u001b[0m\u001b[0mroc_auc_score\u001b[0m\u001b[0;34m(\u001b[0m\u001b[0my_test\u001b[0m\u001b[0;34m,\u001b[0m \u001b[0my_predictions\u001b[0m\u001b[0;34m)\u001b[0m\u001b[0;34m)\u001b[0m\u001b[0;34m\u001b[0m\u001b[0m\n\u001b[0m\u001b[1;32m     34\u001b[0m \u001b[0;34m\u001b[0m\u001b[0m\n\u001b[1;32m     35\u001b[0m     \u001b[0;32mprint\u001b[0m \u001b[0mfoldScores\u001b[0m\u001b[0;34m\u001b[0m\u001b[0m\n",
        "\u001b[0;32m/Users/michael/anaconda/lib/python2.7/site-packages/sklearn/metrics/metrics.pyc\u001b[0m in \u001b[0;36mroc_auc_score\u001b[0;34m(y_true, y_score, average, sample_weight)\u001b[0m\n\u001b[1;32m    591\u001b[0m     return _average_binary_score(\n\u001b[1;32m    592\u001b[0m         \u001b[0m_binary_roc_auc_score\u001b[0m\u001b[0;34m,\u001b[0m \u001b[0my_true\u001b[0m\u001b[0;34m,\u001b[0m \u001b[0my_score\u001b[0m\u001b[0;34m,\u001b[0m \u001b[0maverage\u001b[0m\u001b[0;34m,\u001b[0m\u001b[0;34m\u001b[0m\u001b[0m\n\u001b[0;32m--> 593\u001b[0;31m         sample_weight=sample_weight)\n\u001b[0m\u001b[1;32m    594\u001b[0m \u001b[0;34m\u001b[0m\u001b[0m\n\u001b[1;32m    595\u001b[0m \u001b[0;34m\u001b[0m\u001b[0m\n",
        "\u001b[0;32m/Users/michael/anaconda/lib/python2.7/site-packages/sklearn/metrics/metrics.pyc\u001b[0m in \u001b[0;36m_average_binary_score\u001b[0;34m(binary_metric, y_true, y_score, average, sample_weight)\u001b[0m\n\u001b[1;32m    471\u001b[0m \u001b[0;34m\u001b[0m\u001b[0m\n\u001b[1;32m    472\u001b[0m     \u001b[0;32mif\u001b[0m \u001b[0my_type\u001b[0m \u001b[0;34m==\u001b[0m \u001b[0;34m\"binary\"\u001b[0m\u001b[0;34m:\u001b[0m\u001b[0;34m\u001b[0m\u001b[0m\n\u001b[0;32m--> 473\u001b[0;31m         \u001b[0;32mreturn\u001b[0m \u001b[0mbinary_metric\u001b[0m\u001b[0;34m(\u001b[0m\u001b[0my_true\u001b[0m\u001b[0;34m,\u001b[0m \u001b[0my_score\u001b[0m\u001b[0;34m,\u001b[0m \u001b[0msample_weight\u001b[0m\u001b[0;34m=\u001b[0m\u001b[0msample_weight\u001b[0m\u001b[0;34m)\u001b[0m\u001b[0;34m\u001b[0m\u001b[0m\n\u001b[0m\u001b[1;32m    474\u001b[0m \u001b[0;34m\u001b[0m\u001b[0m\n\u001b[1;32m    475\u001b[0m     \u001b[0my_true\u001b[0m\u001b[0;34m,\u001b[0m \u001b[0my_score\u001b[0m \u001b[0;34m=\u001b[0m \u001b[0mcheck_arrays\u001b[0m\u001b[0;34m(\u001b[0m\u001b[0my_true\u001b[0m\u001b[0;34m,\u001b[0m \u001b[0my_score\u001b[0m\u001b[0;34m)\u001b[0m\u001b[0;34m\u001b[0m\u001b[0m\n",
        "\u001b[0;32m/Users/michael/anaconda/lib/python2.7/site-packages/sklearn/metrics/metrics.pyc\u001b[0m in \u001b[0;36m_binary_roc_auc_score\u001b[0;34m(y_true, y_score, sample_weight)\u001b[0m\n\u001b[1;32m    582\u001b[0m     \u001b[0;32mdef\u001b[0m \u001b[0m_binary_roc_auc_score\u001b[0m\u001b[0;34m(\u001b[0m\u001b[0my_true\u001b[0m\u001b[0;34m,\u001b[0m \u001b[0my_score\u001b[0m\u001b[0;34m,\u001b[0m \u001b[0msample_weight\u001b[0m\u001b[0;34m=\u001b[0m\u001b[0mNone\u001b[0m\u001b[0;34m)\u001b[0m\u001b[0;34m:\u001b[0m\u001b[0;34m\u001b[0m\u001b[0m\n\u001b[1;32m    583\u001b[0m         \u001b[0;32mif\u001b[0m \u001b[0mlen\u001b[0m\u001b[0;34m(\u001b[0m\u001b[0mnp\u001b[0m\u001b[0;34m.\u001b[0m\u001b[0munique\u001b[0m\u001b[0;34m(\u001b[0m\u001b[0my_true\u001b[0m\u001b[0;34m)\u001b[0m\u001b[0;34m)\u001b[0m \u001b[0;34m!=\u001b[0m \u001b[0;36m2\u001b[0m\u001b[0;34m:\u001b[0m\u001b[0;34m\u001b[0m\u001b[0m\n\u001b[0;32m--> 584\u001b[0;31m             raise ValueError(\"Only one class present in y_true. ROC AUC score \"\n\u001b[0m\u001b[1;32m    585\u001b[0m                              \"is not defined in that case.\")\n\u001b[1;32m    586\u001b[0m \u001b[0;34m\u001b[0m\u001b[0m\n",
        "\u001b[0;31mValueError\u001b[0m: Only one class present in y_true. ROC AUC score is not defined in that case."
       ]
      }
     ],
     "prompt_number": 184
    },
    {
     "cell_type": "heading",
     "level": 2,
     "metadata": {},
     "source": [
      "All Cancers and All Drugs with mutation data\n"
     ]
    },
    {
     "cell_type": "code",
     "collapsed": false,
     "input": [
      "drugs = getDrugList()\n",
      "drugToScore = {}\n",
      "for i,drug in enumerate(drugs):\n",
      "    X, y = parseGeneData(drug , range(4,71))\n",
      "    if 0 in y and 1 in y and len(X) > 30:\n",
      "        print i, drug, \"------------------\"\n",
      "#         print y\n",
      "        # print \"Number of rows of data:\", len(data)\n",
      "        average = classify3(X,y)\n",
      "        drugToScore[drug] = average"
     ],
     "language": "python",
     "metadata": {},
     "outputs": [
      {
       "output_type": "stream",
       "stream": "stdout",
       "text": [
        "4 AZD8055_IC_90 ------------------\n",
        "[0.79038461538461535, 0.63846153846153841, 0.57751937984496116, 0.39534883720930231, 0.90697674418604646]\n",
        "0.661738223017\n",
        "6"
       ]
      },
      {
       "output_type": "stream",
       "stream": "stdout",
       "text": [
        " PF-562271_IC_25 ------------------\n",
        "[0.48335032279986401, 0.55341880341880356, 0.56517094017094016, 0.45601851851851855, 0.47774216524216523]"
       ]
      },
      {
       "output_type": "stream",
       "stream": "stdout",
       "text": [
        "\n",
        "0.50714015003\n",
        "8"
       ]
      },
      {
       "output_type": "stream",
       "stream": "stdout",
       "text": [
        " S-Trityl-L-cysteine_IC_25 ------------------\n",
        "[0.55781249999999993, 0.45273437500000002, 0.34556451612903227, 0.44871794871794868, 0.58229942100909837]"
       ]
      },
      {
       "output_type": "stream",
       "stream": "stdout",
       "text": [
        "\n",
        "0.477425752171\n",
        "10"
       ]
      },
      {
       "output_type": "stream",
       "stream": "stdout",
       "text": [
        " CMK_IC_50 ------------------\n"
       ]
      },
      {
       "ename": "ValueError",
       "evalue": "Only one class present in y_true. ROC AUC score is not defined in that case.",
       "output_type": "pyerr",
       "traceback": [
        "\u001b[0;31m---------------------------------------------------------------------------\u001b[0m\n\u001b[0;31mValueError\u001b[0m                                Traceback (most recent call last)",
        "\u001b[0;32m<ipython-input-188-3fc1e7d32338>\u001b[0m in \u001b[0;36m<module>\u001b[0;34m()\u001b[0m\n\u001b[1;32m      7\u001b[0m \u001b[0;31m#         print y\u001b[0m\u001b[0;34m\u001b[0m\u001b[0;34m\u001b[0m\u001b[0m\n\u001b[1;32m      8\u001b[0m         \u001b[0;31m# print \"Number of rows of data:\", len(data)\u001b[0m\u001b[0;34m\u001b[0m\u001b[0;34m\u001b[0m\u001b[0m\n\u001b[0;32m----> 9\u001b[0;31m         \u001b[0maverage\u001b[0m \u001b[0;34m=\u001b[0m \u001b[0mclassify3\u001b[0m\u001b[0;34m(\u001b[0m\u001b[0mX\u001b[0m\u001b[0;34m,\u001b[0m\u001b[0my\u001b[0m\u001b[0;34m)\u001b[0m\u001b[0;34m\u001b[0m\u001b[0m\n\u001b[0m\u001b[1;32m     10\u001b[0m         \u001b[0mdrugToScore\u001b[0m\u001b[0;34m[\u001b[0m\u001b[0mdrug\u001b[0m\u001b[0;34m]\u001b[0m \u001b[0;34m=\u001b[0m \u001b[0maverage\u001b[0m\u001b[0;34m\u001b[0m\u001b[0m\n",
        "\u001b[0;32m<ipython-input-187-3d9d650816d6>\u001b[0m in \u001b[0;36mclassify3\u001b[0;34m(X, y)\u001b[0m\n\u001b[1;32m     54\u001b[0m         \u001b[0mclf\u001b[0m \u001b[0;34m=\u001b[0m \u001b[0msvm\u001b[0m\u001b[0;34m.\u001b[0m\u001b[0mSVC\u001b[0m\u001b[0;34m(\u001b[0m\u001b[0mprobability\u001b[0m\u001b[0;34m=\u001b[0m\u001b[0mTrue\u001b[0m\u001b[0;34m,\u001b[0m \u001b[0mrandom_state\u001b[0m\u001b[0;34m=\u001b[0m\u001b[0;36m0\u001b[0m\u001b[0;34m)\u001b[0m\u001b[0;34m.\u001b[0m\u001b[0mfit\u001b[0m\u001b[0;34m(\u001b[0m\u001b[0mX_train\u001b[0m\u001b[0;34m,\u001b[0m \u001b[0my_train\u001b[0m\u001b[0;34m)\u001b[0m\u001b[0;34m\u001b[0m\u001b[0m\n\u001b[1;32m     55\u001b[0m         \u001b[0my_predictions\u001b[0m \u001b[0;34m=\u001b[0m \u001b[0mclf\u001b[0m\u001b[0;34m.\u001b[0m\u001b[0mpredict_proba\u001b[0m\u001b[0;34m(\u001b[0m\u001b[0mX_test\u001b[0m\u001b[0;34m)\u001b[0m\u001b[0;34m[\u001b[0m\u001b[0;34m:\u001b[0m\u001b[0;34m,\u001b[0m\u001b[0;36m1\u001b[0m\u001b[0;34m]\u001b[0m\u001b[0;34m\u001b[0m\u001b[0m\n\u001b[0;32m---> 56\u001b[0;31m         \u001b[0mfoldScores\u001b[0m\u001b[0;34m.\u001b[0m\u001b[0mappend\u001b[0m\u001b[0;34m(\u001b[0m\u001b[0mroc_auc_score\u001b[0m\u001b[0;34m(\u001b[0m\u001b[0my_test\u001b[0m\u001b[0;34m,\u001b[0m \u001b[0my_predictions\u001b[0m\u001b[0;34m)\u001b[0m\u001b[0;34m)\u001b[0m\u001b[0;34m\u001b[0m\u001b[0m\n\u001b[0m\u001b[1;32m     57\u001b[0m \u001b[0;34m\u001b[0m\u001b[0m\n\u001b[1;32m     58\u001b[0m     \u001b[0;32mprint\u001b[0m \u001b[0mfoldScores\u001b[0m\u001b[0;34m\u001b[0m\u001b[0m\n",
        "\u001b[0;32m/Users/michael/anaconda/lib/python2.7/site-packages/sklearn/metrics/metrics.pyc\u001b[0m in \u001b[0;36mroc_auc_score\u001b[0;34m(y_true, y_score, average, sample_weight)\u001b[0m\n\u001b[1;32m    591\u001b[0m     return _average_binary_score(\n\u001b[1;32m    592\u001b[0m         \u001b[0m_binary_roc_auc_score\u001b[0m\u001b[0;34m,\u001b[0m \u001b[0my_true\u001b[0m\u001b[0;34m,\u001b[0m \u001b[0my_score\u001b[0m\u001b[0;34m,\u001b[0m \u001b[0maverage\u001b[0m\u001b[0;34m,\u001b[0m\u001b[0;34m\u001b[0m\u001b[0m\n\u001b[0;32m--> 593\u001b[0;31m         sample_weight=sample_weight)\n\u001b[0m\u001b[1;32m    594\u001b[0m \u001b[0;34m\u001b[0m\u001b[0m\n\u001b[1;32m    595\u001b[0m \u001b[0;34m\u001b[0m\u001b[0m\n",
        "\u001b[0;32m/Users/michael/anaconda/lib/python2.7/site-packages/sklearn/metrics/metrics.pyc\u001b[0m in \u001b[0;36m_average_binary_score\u001b[0;34m(binary_metric, y_true, y_score, average, sample_weight)\u001b[0m\n\u001b[1;32m    471\u001b[0m \u001b[0;34m\u001b[0m\u001b[0m\n\u001b[1;32m    472\u001b[0m     \u001b[0;32mif\u001b[0m \u001b[0my_type\u001b[0m \u001b[0;34m==\u001b[0m \u001b[0;34m\"binary\"\u001b[0m\u001b[0;34m:\u001b[0m\u001b[0;34m\u001b[0m\u001b[0m\n\u001b[0;32m--> 473\u001b[0;31m         \u001b[0;32mreturn\u001b[0m \u001b[0mbinary_metric\u001b[0m\u001b[0;34m(\u001b[0m\u001b[0my_true\u001b[0m\u001b[0;34m,\u001b[0m \u001b[0my_score\u001b[0m\u001b[0;34m,\u001b[0m \u001b[0msample_weight\u001b[0m\u001b[0;34m=\u001b[0m\u001b[0msample_weight\u001b[0m\u001b[0;34m)\u001b[0m\u001b[0;34m\u001b[0m\u001b[0m\n\u001b[0m\u001b[1;32m    474\u001b[0m \u001b[0;34m\u001b[0m\u001b[0m\n\u001b[1;32m    475\u001b[0m     \u001b[0my_true\u001b[0m\u001b[0;34m,\u001b[0m \u001b[0my_score\u001b[0m \u001b[0;34m=\u001b[0m \u001b[0mcheck_arrays\u001b[0m\u001b[0;34m(\u001b[0m\u001b[0my_true\u001b[0m\u001b[0;34m,\u001b[0m \u001b[0my_score\u001b[0m\u001b[0;34m)\u001b[0m\u001b[0;34m\u001b[0m\u001b[0m\n",
        "\u001b[0;32m/Users/michael/anaconda/lib/python2.7/site-packages/sklearn/metrics/metrics.pyc\u001b[0m in \u001b[0;36m_binary_roc_auc_score\u001b[0;34m(y_true, y_score, sample_weight)\u001b[0m\n\u001b[1;32m    582\u001b[0m     \u001b[0;32mdef\u001b[0m \u001b[0m_binary_roc_auc_score\u001b[0m\u001b[0;34m(\u001b[0m\u001b[0my_true\u001b[0m\u001b[0;34m,\u001b[0m \u001b[0my_score\u001b[0m\u001b[0;34m,\u001b[0m \u001b[0msample_weight\u001b[0m\u001b[0;34m=\u001b[0m\u001b[0mNone\u001b[0m\u001b[0;34m)\u001b[0m\u001b[0;34m:\u001b[0m\u001b[0;34m\u001b[0m\u001b[0m\n\u001b[1;32m    583\u001b[0m         \u001b[0;32mif\u001b[0m \u001b[0mlen\u001b[0m\u001b[0;34m(\u001b[0m\u001b[0mnp\u001b[0m\u001b[0;34m.\u001b[0m\u001b[0munique\u001b[0m\u001b[0;34m(\u001b[0m\u001b[0my_true\u001b[0m\u001b[0;34m)\u001b[0m\u001b[0;34m)\u001b[0m \u001b[0;34m!=\u001b[0m \u001b[0;36m2\u001b[0m\u001b[0;34m:\u001b[0m\u001b[0;34m\u001b[0m\u001b[0m\n\u001b[0;32m--> 584\u001b[0;31m             raise ValueError(\"Only one class present in y_true. ROC AUC score \"\n\u001b[0m\u001b[1;32m    585\u001b[0m                              \"is not defined in that case.\")\n\u001b[1;32m    586\u001b[0m \u001b[0;34m\u001b[0m\u001b[0m\n",
        "\u001b[0;31mValueError\u001b[0m: Only one class present in y_true. ROC AUC score is not defined in that case."
       ]
      }
     ],
     "prompt_number": 188
    },
    {
     "cell_type": "code",
     "collapsed": false,
     "input": [],
     "language": "python",
     "metadata": {},
     "outputs": []
    }
   ],
   "metadata": {}
  }
 ]
}
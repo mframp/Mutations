{
 "metadata": {
  "name": "",
  "signature": "sha256:658b8657e34cd3889b0e338128e0daf8f3cffa5cb13c698d18b614d90608e1f6"
 },
 "nbformat": 3,
 "nbformat_minor": 0,
 "worksheets": [
  {
   "cells": [
    {
     "cell_type": "heading",
     "level": 5,
     "metadata": {},
     "source": [
      "http://www.cancerrxgene.org/translation/Gene/1092#t_table_1092"
     ]
    },
    {
     "cell_type": "code",
     "collapsed": false,
     "input": [
      "%load_ext rmagic"
     ],
     "language": "python",
     "metadata": {},
     "outputs": [],
     "prompt_number": 1
    },
    {
     "cell_type": "code",
     "collapsed": false,
     "input": [
      "%%R\n",
      "\n",
      "# If you have less than 2 constraints pass in the same thing twice...for now\n",
      "calcAccuracy = function(constraint_num1, constraint_num2, constraint_denom1, constraint_denom2)\n",
      "{\n",
      "   # print(responseName)\n",
      "    numer = sum(constraint_num1 & constraint_num2)\n",
      "    denom = sum(constraint_denom1 & constraint_denom2)\n",
      "    accuracy = numer/denom\n",
      "\n",
      "   #print(paste(\"Numerator: \", numer)) #should be 3ish\n",
      "   #print(paste(\"Denom:\", denom))\n",
      "   #print(paste(\"Accuracy: \", accuracy))\n",
      "   \n",
      "    return(accuracy)\n",
      "}"
     ],
     "language": "python",
     "metadata": {},
     "outputs": [],
     "prompt_number": 2
    },
    {
     "cell_type": "code",
     "collapsed": false,
     "input": [
      "%%R\n",
      "\n",
      "makePlots = function(fileName, drugName, numBreaks, numSkip)\n",
      "{\n",
      "    data = read.table(fileName, header=TRUE, sep=\"\\t\",dec=\".\", row.names=1, col.names=c('cell_line','cancer_type', 'tissue', 'EGFR', 'KRAS', drugName), skip=numSkip)\n",
      "    \n",
      "    # Cut out rows that didn't have an IC_50 value\n",
      "    data = data[which(!is.na(data[,drugName])),]\n",
      "\n",
      "    # Histogram\n",
      "    hist = hist(data[,drugName], breaks=numBreaks)\n",
      "\n",
      "    # Set 0 as the response/noresponse threshold, false = 0 + 1 = NoResponse \n",
      "    response = c(\"NoResponse\", \"Response\")[as.integer(data[,drugName] < 0) + 1]\n",
      "    combs = interaction(as.factor(data$EGFR), as.factor(data$KRAS))\n",
      "\n",
      "    # Add on the 2 extra columns\n",
      "    data = cbind(data, response, combs)\n",
      "\n",
      "    # Boxplot\n",
      "    box = plot(data[,drugName]~data$combs, names=paste(\"n =\", table(data$combs)))\n",
      "\n",
      "    # print(data)\n",
      "    return(data)\n",
      "}\n"
     ],
     "language": "python",
     "metadata": {},
     "outputs": [],
     "prompt_number": 3
    },
    {
     "cell_type": "code",
     "collapsed": false,
     "input": [
      "%%R\n",
      "\n",
      "printMe(\"hello\", \"world!\")\n",
      "printMe(\"hello\", \"again\")"
     ],
     "language": "python",
     "metadata": {},
     "outputs": [
      {
       "output_type": "stream",
       "stream": "stdout",
       "text": [
        "Error in withVisible({ : could not find function \"printMe\"\n"
       ]
      }
     ],
     "prompt_number": 4
    },
    {
     "cell_type": "code",
     "collapsed": false,
     "input": [
      "import sys\n",
      "import argparse\n",
      "import re\n",
      "import numpy as np\n",
      "\n",
      "def parseData(outFileName, drugName, cancerType = None):\n",
      "    inFile = open(\"/Users/michael/Piccolo/Mutations/Afatinib/gdsc_manova_input_w5_unix.csv\", \"r\")\n",
      "    outFile = open(\"/Users/michael/Piccolo/Mutations/Afatinib/\" + outFileName + \".txt\", \"w\")\n",
      "\n",
      "    geneIndices = []\n",
      "    headerItems = []\n",
      "    headerIndices = []\n",
      "\n",
      "    # Convert mutation from x::y to 'amplification'\n",
      "    def convertMutation(line):\n",
      "        for i in geneIndices:\n",
      "            # mutations or amplifications\n",
      "            if '::>=8' in line[i] or 'p' in line[i]:\n",
      "                line[i] = 'mut'\n",
      "            # normal\n",
      "            if line[i] == 'wt::0<cn<8' or line[i] == 'wt::nci':\n",
      "                line[i] = 'none'\n",
      "        return line\n",
      "\n",
      "    # Write only the columns with the specified indices\n",
      "    def writeFile(cancerType):\n",
      "        for line in inFile:\n",
      "            lineItems = line.strip().split(',')\n",
      "            lineItems = convertMutation(lineItems)\n",
      "            outItems = [lineItems[i] for i in headerIndices]\n",
      "            # if nothing passed in write them, or if cancerType then write\n",
      "            if not cancerType or cancerType in outItems:\n",
      "                outFile.write(\"\\t\".join(outItems) + \"\\n\")\n",
      "\n",
      "    # Split columns headers and save indices\n",
      "    def getIndices(drug):\n",
      "        headers = inFile.readline().strip().split(',')\n",
      "        for i, head in enumerate(headers):\n",
      "            if head == 'Cell Line' or head == 'Cancer Type' or head == 'Tissue' or head == 'EGFR' or head == 'KRAS' or head == drugName:\n",
      "                # Check for duplicate headers\n",
      "                if head not in headerItems:\n",
      "                    headerItems.append(head)\n",
      "                    headerIndices.append(i)\n",
      "                if head == 'EGFR' or head == 'KRAS':\n",
      "                    geneIndices.append(i)\n",
      "\n",
      "\n",
      "    getIndices(drugName)\n",
      "\n",
      "    # Write the column headers\n",
      "    outFile.write(\"\\t\".join(headerItems) + \"\\n\")\n",
      "\n",
      "    writeFile(cancerType)\n",
      "\n",
      "    outFile.close()"
     ],
     "language": "python",
     "metadata": {},
     "outputs": [],
     "prompt_number": 6
    },
    {
     "cell_type": "heading",
     "level": 1,
     "metadata": {},
     "source": [
      "Afatinib_IC_50"
     ]
    },
    {
     "cell_type": "code",
     "collapsed": false,
     "input": [
      "parseData(\"drug_outfile_afatinib\", \"BIBW2992_IC_50\", \"lung_NSCLC_adenocarcinoma\")"
     ],
     "language": "python",
     "metadata": {},
     "outputs": [],
     "prompt_number": 7
    },
    {
     "cell_type": "code",
     "collapsed": false,
     "input": [
      "%%R\n",
      "\n",
      "data = makePlots(\"drug_outfile_afatinib.txt\", \"afatinib_IC_50\", 20, 0)\n",
      "\n",
      "# Responders with mutations / total with mutations\n",
      "respWithMut = calcAccuracy(data$response == \"Response\", data$combs == \"mut.none\", data$combs == \"mut.none\",data$combs == \"mut.none\")\n",
      "cat(\"Percent of patients with EGFR mut and not KRAS that responded to afatinib: \", respWithMut*100, \"%\", \"\\n\\n\")\n",
      "\n",
      "# Responders that aren't mut.none / total that aren't mut.none\n",
      "respNoMut = calcAccuracy(data$response == \"Response\", data$combs != \"mut.none\", data$combs != \"mut.none\", data$combs != \"mut.none\")\n",
      "cat(\"Percent of patients that responded that we didn't think would respond (not EGFR.NONE): \", respNoMut*100, \"%\", \"\\n\\n\")\n",
      "\n",
      "# Responders that are mut.mut / total with mut.mut\n",
      "respNoMut = calcAccuracy(data$response == \"Response\", data$combs == \"mut.mut\", data$combs == \"mut.mut\", data$combs == \"mut.mut\")\n",
      "cat(\"Percent of patients with EGFR and KRAS mutations that responded to afatinib: \", respNoMut*100, \"%\",\"\\n\\n\")\n",
      "\n",
      "#plot(density(data$afatinib_IC_50[which(!is.na(data$afatinib_IC_50))]))\n",
      "\n",
      "table(data$response, data$combs)\n"
     ],
     "language": "python",
     "metadata": {},
     "outputs": [
      {
       "metadata": {},
       "output_type": "display_data",
       "text": [
        "Percent of patients with EGFR mut and not KRAS that responded to afatinib:  75 % \n",
        "\n",
        "Percent of patients that responded that we didn't think would respond (not EGFR.NONE):  17.3913 % \n",
        "\n",
        "Percent of patients with EGFR and KRAS mutations that responded to afatinib:  100 % \n",
        "\n",
        "            \n",
        "             mut.mut none.mut mut.none none.none\n",
        "  NoResponse       0       16        1        22\n",
        "  Response         1        0        3         7\n"
       ]
      },
      {
       "metadata": {},
       "output_type": "display_data",
       "png": "[encoded data removed]"
      },
      {
       "metadata": {},
       "output_type": "display_data",
       "png": "[encoded data removed]"
      }
     ],
     "prompt_number": 8
    },
    {
     "cell_type": "heading",
     "level": 1,
     "metadata": {},
     "source": [
      "Afatinib for all types of cancer"
     ]
    },
    {
     "cell_type": "code",
     "collapsed": false,
     "input": [
      "parseData(\"drug_outfile_alltypes\", \"BIBW2992_IC_50\")"
     ],
     "language": "python",
     "metadata": {},
     "outputs": [],
     "prompt_number": 9
    },
    {
     "cell_type": "code",
     "collapsed": false,
     "input": [
      "%%R\n",
      "data = makePlots(\"drug_outfile_alltypes.txt\", \"afatinib_IC_50\", 50, 5)\n",
      "\n",
      "# Responders with mutations / total with mutations\n",
      "respWithMut = calcAccuracy(data$response == \"Response\", data$combs == \"mut.none\", data$combs == \"mut.none\",data$combs == \"mut.none\")\n",
      "cat(\"Percent of patients with EGFR mut and not KRAS that responded to afatinib: \", respWithMut, \"\\n\\n\")\n",
      "\n",
      "# Responders that aren't mut.none / total that aren't mut.none\n",
      "respNoMut = calcAccuracy(data$response == \"Response\", data$combs != \"mut.none\", data$combs != \"mut.none\", data$combs != \"mut.none\")\n",
      "cat(\"Percent of patients that responded that we didn't think would respond (not EGFR.NONE): \", respNoMut, \"\\n\\n\")\n",
      "\n",
      "# Responders that are mut.mut / total with mut.mut\n",
      "bothMuts = calcAccuracy(data$response == \"Response\", data$combs == \"mut.mut\", data$combs == \"mut.mut\", data$combs == \"mut.mut\")\n",
      "cat(\"Percent of patients with EGFR and KRAS mutations that responded to afatinib: \", bothMuts*100, \"%\",\"\\n\\n\")\n",
      "\n",
      "table(data$response, data$combs)"
     ],
     "language": "python",
     "metadata": {},
     "outputs": [
      {
       "metadata": {},
       "output_type": "display_data",
       "text": [
        "Percent of patients with EGFR mut and not KRAS that responded to afatinib:  0.4090909 \n",
        "\n",
        "Percent of patients that responded that we didn't think would respond (not EGFR.NONE):  0.1029641 \n",
        "\n",
        "Percent of patients with EGFR and KRAS mutations that responded to afatinib:  33.33333 % \n",
        "\n",
        "            \n",
        "             mut.mut none.mut mut.none none.none\n",
        "  NoResponse       2       85       13       488\n",
        "  Response         1        7        9        58\n"
       ]
      },
      {
       "metadata": {},
       "output_type": "display_data",
       "png": "[encoded data removed]"
      },
      {
       "metadata": {},
       "output_type": "display_data",
       "png": "[encoded data removed]"
      }
     ],
     "prompt_number": 10
    },
    {
     "cell_type": "heading",
     "level": 1,
     "metadata": {},
     "source": [
      "Gefitinib_IC_50:"
     ]
    },
    {
     "cell_type": "code",
     "collapsed": false,
     "input": [
      "parseData(\"drug_outfile_luad_gefitinib\", \"Gefitinib_IC_50\", \"lung_NSCLC_adenocarcinoma\")"
     ],
     "language": "python",
     "metadata": {},
     "outputs": [],
     "prompt_number": 11
    },
    {
     "cell_type": "code",
     "collapsed": false,
     "input": [
      "%%R\n",
      "data = makePlots(\"drug_outfile_luad_gefitinib.txt\", \"gefitinib_IC_50\", 20, 0)\n",
      "table(data$response, data$combs)"
     ],
     "language": "python",
     "metadata": {},
     "outputs": [
      {
       "metadata": {},
       "output_type": "display_data",
       "text": [
        "            \n",
        "             mut.mut none.mut mut.none none.none\n",
        "  NoResponse       1       16        3        24\n",
        "  Response         0        0        1         5\n"
       ]
      },
      {
       "metadata": {},
       "output_type": "display_data",
       "png": "[encoded data removed]"
      },
      {
       "metadata": {},
       "output_type": "display_data",
       "png": "[encoded data removed]"
      }
     ],
     "prompt_number": 12
    },
    {
     "cell_type": "heading",
     "level": 1,
     "metadata": {},
     "source": [
      "Gefitinib for all types of cancer"
     ]
    },
    {
     "cell_type": "code",
     "collapsed": false,
     "input": [
      "parseData(\"drug_outfile_alltypes_gefitinib\", \"Gefitinib_IC_50\")"
     ],
     "language": "python",
     "metadata": {},
     "outputs": [],
     "prompt_number": 13
    },
    {
     "cell_type": "code",
     "collapsed": false,
     "input": [
      "%%R\n",
      "data = makePlots(\"drug_outfile_alltypes_gefitinib.txt\", \"Gefitinib_IC_50\", 50, 5)"
     ],
     "language": "python",
     "metadata": {},
     "outputs": [
      {
       "metadata": {},
       "output_type": "display_data",
       "png": "[encoded data removed]"
      },
      {
       "metadata": {},
       "output_type": "display_data",
       "png": "[encoded data removed]"
      }
     ],
     "prompt_number": 14
    },
    {
     "cell_type": "code",
     "collapsed": false,
     "input": [
      "def whichColumnsByIndex(colName, colIndex, ran1=None, ran2=None):\n",
      "    START_INDEX_OF_GENES = 5\n",
      "    END_INDEX_OF_GENES = 71\n",
      "    \n",
      "    return colIndex >= START_INDEX_OF_GENES  and colIndex <= END_INDEX_OF_GENES"
     ],
     "language": "python",
     "metadata": {},
     "outputs": [],
     "prompt_number": 64
    },
    {
     "cell_type": "code",
     "collapsed": false,
     "input": [
      "def whichColumnsEGFROrKRAS(colName, colIndex, ran1=None, ran2=None):\n",
      "    START_INDEX_OF_GENES = 5\n",
      "    END_INDEX_OF_GENES = 71\n",
      "    \n",
      "    return colIndex == 22 or colIndex == 40\n",
      "#     return colName == \"EGFR\" or colName == \"KRAS\""
     ],
     "language": "python",
     "metadata": {},
     "outputs": [],
     "prompt_number": 65
    },
    {
     "cell_type": "code",
     "collapsed": false,
     "input": [
      "from random import randint\n",
      "\n",
      "def whichColumnsTwoRandom(colName, colIndex, ran1, ran2):\n",
      "        \n",
      "    return colIndex == ran1 or colIndex == ran2"
     ],
     "language": "python",
     "metadata": {},
     "outputs": [],
     "prompt_number": 66
    },
    {
     "cell_type": "code",
     "collapsed": false,
     "input": [
      "import sys\n",
      "import argparse\n",
      "import re\n",
      "\n",
      "def parseGeneData(outFileName, drugName, whichColumns):\n",
      "    inFile = open(\"/Users/michael/Piccolo/Mutations/Afatinib/gdsc_manova_input_w5_unix.csv\", \"r\")\n",
      "    outFile = open(\"/Users/michael/Piccolo/Mutations/Afatinib/\" + outFileName + \".txt\", \"w\")\n",
      "\n",
      "    headerItems = []\n",
      "    headerIndices = []\n",
      "    headerDict = {}\n",
      "    genesWithNa = set()\n",
      "    x = []\n",
      "    START_INDEX_OF_GENES = 5\n",
      "    END_INDEX_OF_GENES = 71\n",
      "    drugIndex = None\n",
      "    # firstOccurance = True\n",
      "\n",
      "    # Convert mutation from x::y to 'amplification'\n",
      "    def convertMutation(line):\n",
      "        global drugIndex\n",
      "        recordedResponse = True\n",
      "        for i,val in headerDict.iteritems():\n",
      "            # mutations or amplifications\n",
      "            if '::>=8' in line[i] or 'p' in line[i]:\n",
      "                line[i] = '1'\n",
      "            # normal\n",
      "            if line[i] == 'wt::0<cn<8' or line[i] == 'wt::nci' or line[i] == 'wt::0':\n",
      "                line[i] = '0'\n",
      "            # not analyzed, this check shouldn't be needed anymore\n",
      "            if line[i] == 'na::0<cn<8' or line[i] == 'na::nci' or line[i] == 'na::0':\n",
      "                line[i] = '555'\n",
      "                print \"Should never reach here!\"\n",
      "\n",
      "            # If looking at last column, where response to a drug is being measured    \n",
      "            if i == drugIndex:\n",
      "                # Check for blank values\n",
      "                if line[i] == '':\n",
      "                    line[i] = 'no recorded response'\n",
      "#                     print line[i]\n",
      "                    recordedResponse = False\n",
      "                # Response\n",
      "                elif float(line[i]) < 0:\n",
      "                    line[i] = '1'\n",
      "                # No response\n",
      "                else:\n",
      "                    line[i] = '0'\n",
      "        return line, recordedResponse\n",
      "    \n",
      "    # Delete those columns who have any NA values from dictionary\n",
      "    def checkColumnsForNa():\n",
      "        for line in inFile:\n",
      "            lineItems = line.strip().split(',')\n",
      "            for i in headerIndices:\n",
      "                if lineItems[i] == 'na::0<cn<8' or lineItems[i] == 'na::nci' or lineItems[i] == 'na::0':\n",
      "                    genesWithNa.update([i])\n",
      "        for i in genesWithNa:\n",
      "            print \"genes with na:\",headerDict[i], i\n",
      "            headerDict.pop(i)\n",
      "                \n",
      "            \n",
      "    # Write only the columns with the specified indices\n",
      "    def writeFile():\n",
      "        inFile.seek(0)\n",
      "        # Read the first line of headers again\n",
      "        inFile.readline()\n",
      "        for line in inFile:\n",
      "            lineItems = line.strip().split(',')\n",
      "            # Check for blank rows\n",
      "            if lineItems[0] != '':\n",
      "                # This could be more efficient, pass only outItems to convertMutation()\n",
      "                lineItems, recordedResponse = convertMutation(lineItems)\n",
      "                outItems = [lineItems[i] for i,val in headerDict.iteritems()]\n",
      "                if recordedResponse:\n",
      "                    outFile.write(\"\\t\".join(outItems) + \"\\n\")\n",
      "\n",
      "    # Split columns headers and save indices\n",
      "    def getIndices(firstOccurance):\n",
      "        headers = inFile.readline().strip().split(',')\n",
      "        # Get random numbers for testing\n",
      "        r1,r2 = makeRandomNumbers()\n",
      "        for i, head in enumerate(headers):\n",
      "            global drugIndex\n",
      "            if whichColumns(head, i, r1, r2):\n",
      "                headerItems.append(head)\n",
      "                headerIndices.append(i)\n",
      "                headerDict[i] = head\n",
      "            # Check because drug names occur more than once\n",
      "            elif head == drugName and firstOccurance:\n",
      "                firstOccurance = False\n",
      "                drugIndex = i\n",
      "                headerItems.append(head)\n",
      "                headerIndices.append(i)\n",
      "                headerDict[i] = head\n",
      "\n",
      "    def makeRandomNumbers(): \n",
      "        ran1 = randint(6,69) \n",
      "        ran2 = randint(6,69)\n",
      "        \n",
      "        # make sure one a column with NA wasn't chosen\n",
      "        naList = [64,45,5,42,11,12,13,15,16,49,50,23,28,37]\n",
      "        while ran1 in naList or ran2 in naList or ran1 == ran2:\n",
      "            ran1 = randint(6,69) \n",
      "            ran2 = randint(6,69)\n",
      "            \n",
      "            # make sure EGFR and KRAS aren't chosen together\n",
      "            if ran1 == 22 and ran2 == 40 or ran1 == 40 and ran2 == 22:\n",
      "                ran2 += randint(1,20)\n",
      "            \n",
      "#         print ran1, ran2\n",
      "        return ran1, ran2\n",
      "\n",
      "    getIndices(True)\n",
      "    checkColumnsForNa()\n",
      "#     print \"header indices\",len(headerIndices), headerIndices\n",
      "    # Write the column headers\n",
      "    outFile.write(\"\\t\".join([val for key,val in headerDict.iteritems()]) + \"\\n\")\n",
      "    writeFile()\n",
      "    \n",
      "\n",
      "    outFile.close()"
     ],
     "language": "python",
     "metadata": {},
     "outputs": [],
     "prompt_number": 320
    },
    {
     "cell_type": "heading",
     "level": 2,
     "metadata": {},
     "source": [
      "Cross Validation with all Gene Mutations"
     ]
    },
    {
     "cell_type": "code",
     "collapsed": false,
     "input": [
      "parseGeneData('geneticMutationsOfCellLines', 'BIBW2992_IC_50', whichColumnsByIndex)\n"
     ],
     "language": "python",
     "metadata": {},
     "outputs": [
      {
       "output_type": "stream",
       "stream": "stdout",
       "text": [
        "genes with na: SMARCB1 64\n",
        "genes with na: MLLT3 45\n",
        "genes with na: AKT2 5\n",
        "genes with na: MDM2 42\n",
        "genes with na: CCND1 11\n",
        "genes with na: CCND2 12\n",
        "genes with na: CCND3 13\n",
        "genes with na: CDK4 15\n",
        "genes with na: CDK6 16\n",
        "genes with na: MYCL1 49\n",
        "genes with na: MYCN 50\n",
        "genes with na: EP300 23\n",
        "genes with na: FGFR2 28\n",
        "genes with na: KDM6A 37\n"
       ]
      }
     ],
     "prompt_number": 321
    },
    {
     "cell_type": "code",
     "collapsed": false,
     "input": [
      "from sklearn import svm\n",
      "from sklearn import cross_validation\n",
      "\n",
      "import sys\n",
      "import argparse\n",
      "import re\n",
      "import numpy\n",
      "\n",
      "def classify (inFileName, drugName,outFileName1D, outFileName2D):\n",
      "    inFile = open(\"/Users/michael/Piccolo/Mutations/Afatinib/\" + inFileName + \".txt\", \"r\")\n",
      "    outFile1D = open(\"/Users/michael/Piccolo/Mutations/Afatinib/\" + outFileName1D + \".txt\", \"w\")\n",
      "    outFile2D = open(\"/Users/michael/Piccolo/Mutations/Afatinib/\" + outFileName2D + \".txt\", \"w\")\n",
      "\n",
      "    \n",
      "    def splitFile():\n",
      "        # Save index of response column\n",
      "        responseColIndex = 0\n",
      "        headers = inFile.readline().strip().split(',')\n",
      "        for i,colName in enumerate(headers):\n",
      "            if colName == drugName:\n",
      "                responseColIndex = i\n",
      "                \n",
      "        inFile.seek(0)\n",
      "        for line in inFile:\n",
      "            items2D = []\n",
      "            items1D = []\n",
      "            line = line.strip().split('\\t')\n",
      "            for i,lineItem in enumerate(line):\n",
      "                if i == responseColIndex:\n",
      "                    items1D.append(lineItem)\n",
      "                else:\n",
      "                    items2D.append(lineItem)\n",
      "    #             print items1D\n",
      "    #             print items2D\n",
      "            outFile1D.write(\"\\t\".join(items1D) + \"\\n\")\n",
      "            outFile2D.write(\"\\t\".join(items2D) + \"\\n\")\n",
      "            \n",
      "        outFile1D.close()\n",
      "        outFile2D.close()\n",
      "\n",
      "    def classification():\n",
      "        outFile1D = open(\"/Users/michael/Piccolo/Mutations/Afatinib/\" + outFileName1D + \".txt\", \"r\")\n",
      "        outFile2D = open(\"/Users/michael/Piccolo/Mutations/Afatinib/\" + outFileName2D + \".txt\", \"r\")\n",
      "#         for line in outFile2D:\n",
      "#             print line\n",
      "        X = numpy.loadtxt(outFile2D,skiprows=1)\n",
      "        y = numpy.loadtxt(outFile1D,skiprows=1)\n",
      "\n",
      "        clf = svm.SVC(probability=True) \n",
      "        scores = cross_validation.cross_val_score(clf, X, y, cv=10, n_jobs=3)\n",
      "#         print scores\n",
      "        print sum(scores) / float(len(scores))\n",
      "\n",
      "\n",
      "    splitFile()\n",
      "    classification()\n",
      "\n",
      "\n"
     ],
     "language": "python",
     "metadata": {},
     "outputs": [],
     "prompt_number": 322
    },
    {
     "cell_type": "code",
     "collapsed": false,
     "input": [
      "classify('geneticMutationsOfCellLines', 'BIBW2992_IC_50', 'delete3', 'delete4')"
     ],
     "language": "python",
     "metadata": {},
     "outputs": [
      {
       "output_type": "stream",
       "stream": "stdout",
       "text": [
        "0.99552238806\n"
       ]
      }
     ],
     "prompt_number": 323
    },
    {
     "cell_type": "heading",
     "level": 2,
     "metadata": {},
     "source": [
      "Cross Validation with EGFR and KRAS"
     ]
    },
    {
     "cell_type": "code",
     "collapsed": false,
     "input": [
      "parseGeneData('geneticMutationsEGFRKRAS', 'BIBW2992_IC_50', whichColumnsEGFROrKRAS)\n",
      "classify('geneticMutationsEGFRKRAS', 'BIBW2992_IC_50', 'delete1', 'delete2')"
     ],
     "language": "python",
     "metadata": {},
     "outputs": [
      {
       "output_type": "stream",
       "stream": "stdout",
       "text": [
        "0.856771735727\n"
       ]
      }
     ],
     "prompt_number": 324
    },
    {
     "cell_type": "heading",
     "level": 2,
     "metadata": {},
     "source": [
      "Cross Validation 100 times with 2 random genes"
     ]
    },
    {
     "cell_type": "code",
     "collapsed": false,
     "input": [
      "for i in range(100):\n",
      "    parseGeneData('geneticMutationsRandom', 'BIBW2992_IC_50', whichColumnsTwoRandom)\n",
      "    classify('geneticMutationsRandom', 'BIBW2992_IC_50', 'delete7', 'delete8')"
     ],
     "language": "python",
     "metadata": {},
     "outputs": [
      {
       "output_type": "stream",
       "stream": "stdout",
       "text": [
        "0.968360736425\n"
       ]
      },
      {
       "output_type": "stream",
       "stream": "stdout",
       "text": [
        "0.886941864106\n"
       ]
      },
      {
       "output_type": "stream",
       "stream": "stdout",
       "text": [
        "0.886941864106\n"
       ]
      },
      {
       "output_type": "stream",
       "stream": "stdout",
       "text": [
        "0.99552238806\n"
       ]
      },
      {
       "output_type": "stream",
       "stream": "stdout",
       "text": [
        "0.883956789479\n"
       ]
      },
      {
       "output_type": "stream",
       "stream": "stdout",
       "text": [
        "0.886941864106\n"
       ]
      },
      {
       "output_type": "stream",
       "stream": "stdout",
       "text": [
        "0.906530848432\n"
       ]
      },
      {
       "output_type": "stream",
       "stream": "stdout",
       "text": [
        "0.906530848432\n"
       ]
      },
      {
       "output_type": "stream",
       "stream": "stdout",
       "text": [
        "0.886941864106\n"
       ]
      },
      {
       "output_type": "stream",
       "stream": "stdout",
       "text": [
        "0.968360736425\n"
       ]
      },
      {
       "output_type": "stream",
       "stream": "stdout",
       "text": [
        "0.886941864106\n"
       ]
      },
      {
       "output_type": "stream",
       "stream": "stdout",
       "text": [
        "0.886941864106\n"
       ]
      },
      {
       "output_type": "stream",
       "stream": "stdout",
       "text": [
        "0.886941864106\n"
       ]
      },
      {
       "output_type": "stream",
       "stream": "stdout",
       "text": [
        "0.968360736425\n"
       ]
      },
      {
       "output_type": "stream",
       "stream": "stdout",
       "text": [
        "0.886941864106\n"
       ]
      },
      {
       "output_type": "stream",
       "stream": "stdout",
       "text": [
        "0.886941864106\n"
       ]
      },
      {
       "output_type": "stream",
       "stream": "stdout",
       "text": [
        "0.886941864106\n"
       ]
      },
      {
       "output_type": "stream",
       "stream": "stdout",
       "text": [
        "0.986454093171\n"
       ]
      },
      {
       "output_type": "stream",
       "stream": "stdout",
       "text": [
        "0.886941864106\n"
       ]
      },
      {
       "output_type": "stream",
       "stream": "stdout",
       "text": [
        "0.906530848432\n"
       ]
      },
      {
       "output_type": "stream",
       "stream": "stdout",
       "text": [
        "0.886941864106\n"
       ]
      },
      {
       "output_type": "stream",
       "stream": "stdout",
       "text": [
        "0.987991858887\n"
       ]
      },
      {
       "output_type": "stream",
       "stream": "stdout",
       "text": [
        "0.886941864106\n"
       ]
      },
      {
       "output_type": "stream",
       "stream": "stdout",
       "text": [
        "0.987991858887\n"
       ]
      },
      {
       "output_type": "stream",
       "stream": "stdout",
       "text": [
        "0.568566259611\n"
       ]
      },
      {
       "output_type": "stream",
       "stream": "stdout",
       "text": [
        "0.886941864106\n"
       ]
      },
      {
       "output_type": "stream",
       "stream": "stdout",
       "text": [
        "0.886941864106\n"
       ]
      },
      {
       "output_type": "stream",
       "stream": "stdout",
       "text": [
        "0.987991858887\n"
       ]
      },
      {
       "output_type": "stream",
       "stream": "stdout",
       "text": [
        "0.924581637268\n"
       ]
      },
      {
       "output_type": "stream",
       "stream": "stdout",
       "text": [
        "0.997036874451\n"
       ]
      },
      {
       "output_type": "stream",
       "stream": "stdout",
       "text": [
        "0.886941864106\n"
       ]
      },
      {
       "output_type": "stream",
       "stream": "stdout",
       "text": [
        "0.924581637268\n"
       ]
      },
      {
       "output_type": "stream",
       "stream": "stdout",
       "text": [
        "0.886941864106\n"
       ]
      },
      {
       "output_type": "stream",
       "stream": "stdout",
       "text": [
        "0.906530848432\n"
       ]
      },
      {
       "output_type": "stream",
       "stream": "stdout",
       "text": [
        "0.968360736425\n"
       ]
      },
      {
       "output_type": "stream",
       "stream": "stdout",
       "text": [
        "0.987991858887\n"
       ]
      },
      {
       "output_type": "stream",
       "stream": "stdout",
       "text": [
        "0.886941864106\n"
       ]
      },
      {
       "output_type": "stream",
       "stream": "stdout",
       "text": [
        "0.886941864106\n"
       ]
      },
      {
       "output_type": "stream",
       "stream": "stdout",
       "text": [
        "0.886941864106\n"
       ]
      },
      {
       "output_type": "stream",
       "stream": "stdout",
       "text": [
        "0.99552238806\n"
       ]
      },
      {
       "output_type": "stream",
       "stream": "stdout",
       "text": [
        "0.886941864106\n"
       ]
      },
      {
       "output_type": "stream",
       "stream": "stdout",
       "text": [
        "0.99552238806\n"
       ]
      },
      {
       "output_type": "stream",
       "stream": "stdout",
       "text": [
        "0.986454093171\n"
       ]
      },
      {
       "output_type": "stream",
       "stream": "stdout",
       "text": [
        "0.968360736425\n"
       ]
      },
      {
       "output_type": "stream",
       "stream": "stdout",
       "text": [
        "0.886941864106\n"
       ]
      },
      {
       "output_type": "stream",
       "stream": "stdout",
       "text": [
        "0.886941864106\n"
       ]
      },
      {
       "output_type": "stream",
       "stream": "stdout",
       "text": [
        "0.986454093171\n"
       ]
      },
      {
       "output_type": "stream",
       "stream": "stdout",
       "text": [
        "0.886941864106\n"
       ]
      },
      {
       "output_type": "stream",
       "stream": "stdout",
       "text": [
        "0.886941864106\n"
       ]
      },
      {
       "output_type": "stream",
       "stream": "stdout",
       "text": [
        "0.886941864106\n"
       ]
      },
      {
       "output_type": "stream",
       "stream": "stdout",
       "text": [
        "0.924581637268\n"
       ]
      },
      {
       "output_type": "stream",
       "stream": "stdout",
       "text": [
        "0.886941864106\n"
       ]
      },
      {
       "output_type": "stream",
       "stream": "stdout",
       "text": [
        "0.886941864106\n"
       ]
      },
      {
       "output_type": "stream",
       "stream": "stdout",
       "text": [
        "0.886941864106\n"
       ]
      },
      {
       "output_type": "stream",
       "stream": "stdout",
       "text": [
        "0.986454093171\n"
       ]
      },
      {
       "output_type": "stream",
       "stream": "stdout",
       "text": [
        "0.886941864106\n"
       ]
      },
      {
       "output_type": "stream",
       "stream": "stdout",
       "text": [
        "0.886941864106\n"
       ]
      },
      {
       "output_type": "stream",
       "stream": "stdout",
       "text": [
        "0.906530848432\n"
       ]
      },
      {
       "output_type": "stream",
       "stream": "stdout",
       "text": [
        "0.987991858887\n"
       ]
      },
      {
       "output_type": "stream",
       "stream": "stdout",
       "text": [
        "0.997036874451\n"
       ]
      },
      {
       "output_type": "stream",
       "stream": "stdout",
       "text": [
        "0.856771735727\n"
       ]
      },
      {
       "output_type": "stream",
       "stream": "stdout",
       "text": [
        "0.987991858887\n"
       ]
      },
      {
       "output_type": "stream",
       "stream": "stdout",
       "text": [
        "0.886941864106\n"
       ]
      },
      {
       "output_type": "stream",
       "stream": "stdout",
       "text": [
        "0.987991858887\n"
       ]
      },
      {
       "output_type": "stream",
       "stream": "stdout",
       "text": [
        "0.886941864106\n"
       ]
      },
      {
       "output_type": "stream",
       "stream": "stdout",
       "text": [
        "0.886941864106\n"
       ]
      },
      {
       "output_type": "stream",
       "stream": "stdout",
       "text": [
        "0.886941864106\n"
       ]
      },
      {
       "output_type": "stream",
       "stream": "stdout",
       "text": [
        "0.987991858887\n"
       ]
      },
      {
       "output_type": "stream",
       "stream": "stdout",
       "text": [
        "0.886941864106\n"
       ]
      },
      {
       "output_type": "stream",
       "stream": "stdout",
       "text": [
        "0.886941864106\n"
       ]
      },
      {
       "output_type": "stream",
       "stream": "stdout",
       "text": [
        "0.886941864106\n"
       ]
      },
      {
       "output_type": "stream",
       "stream": "stdout",
       "text": [
        "0.883956789479\n"
       ]
      },
      {
       "output_type": "stream",
       "stream": "stdout",
       "text": [
        "0.978945482378\n"
       ]
      },
      {
       "output_type": "stream",
       "stream": "stdout",
       "text": [
        "0.99552238806\n"
       ]
      },
      {
       "output_type": "stream",
       "stream": "stdout",
       "text": [
        "0.997036874451\n"
       ]
      },
      {
       "output_type": "stream",
       "stream": "stdout",
       "text": [
        "0.886941864106\n"
       ]
      },
      {
       "output_type": "stream",
       "stream": "stdout",
       "text": [
        "0.987991858887\n"
       ]
      },
      {
       "output_type": "stream",
       "stream": "stdout",
       "text": [
        "0.886941864106\n"
       ]
      },
      {
       "output_type": "stream",
       "stream": "stdout",
       "text": [
        "0.886941864106\n"
       ]
      },
      {
       "output_type": "stream",
       "stream": "stdout",
       "text": [
        "0.987991858887\n"
       ]
      },
      {
       "output_type": "stream",
       "stream": "stdout",
       "text": [
        "0.968360736425\n"
       ]
      },
      {
       "output_type": "stream",
       "stream": "stdout",
       "text": [
        "0.856771735727\n"
       ]
      },
      {
       "output_type": "stream",
       "stream": "stdout",
       "text": [
        "0.986454093171\n"
       ]
      },
      {
       "output_type": "stream",
       "stream": "stdout",
       "text": [
        "0.987991858887\n"
       ]
      },
      {
       "output_type": "stream",
       "stream": "stdout",
       "text": [
        "0.886941864106\n"
       ]
      },
      {
       "output_type": "stream",
       "stream": "stdout",
       "text": [
        "0.886941864106\n"
       ]
      },
      {
       "output_type": "stream",
       "stream": "stdout",
       "text": [
        "0.978945482378\n"
       ]
      },
      {
       "output_type": "stream",
       "stream": "stdout",
       "text": [
        "0.886941864106\n"
       ]
      },
      {
       "output_type": "stream",
       "stream": "stdout",
       "text": [
        "0.886941864106\n"
       ]
      },
      {
       "output_type": "stream",
       "stream": "stdout",
       "text": [
        "0.987991858887\n"
       ]
      },
      {
       "output_type": "stream",
       "stream": "stdout",
       "text": [
        "0.986454093171\n"
       ]
      },
      {
       "output_type": "stream",
       "stream": "stdout",
       "text": [
        "0.978945482378\n"
       ]
      },
      {
       "output_type": "stream",
       "stream": "stdout",
       "text": [
        "0.886941864106\n"
       ]
      },
      {
       "output_type": "stream",
       "stream": "stdout",
       "text": [
        "0.886941864106\n"
       ]
      },
      {
       "output_type": "stream",
       "stream": "stdout",
       "text": [
        "0.582180009046\n"
       ]
      },
      {
       "output_type": "stream",
       "stream": "stdout",
       "text": [
        "0.886941864106\n"
       ]
      },
      {
       "output_type": "stream",
       "stream": "stdout",
       "text": [
        "0.987991858887\n"
       ]
      },
      {
       "output_type": "stream",
       "stream": "stdout",
       "text": [
        "0.886941864106\n"
       ]
      },
      {
       "output_type": "stream",
       "stream": "stdout",
       "text": [
        "0.886941864106\n"
       ]
      },
      {
       "output_type": "stream",
       "stream": "stdout",
       "text": [
        "0.99552238806\n"
       ]
      }
     ],
     "prompt_number": 325
    },
    {
     "cell_type": "heading",
     "level": 3,
     "metadata": {},
     "source": [
      "Map cell lines between gene_expression file and cell_lines file"
     ]
    },
    {
     "cell_type": "code",
     "collapsed": false,
     "input": [
      "import sys\n",
      "import re\n",
      "\n",
      "def findSimilarCellLines():\n",
      "    mutationFile = open(\"/Users/michael/Piccolo/Mutations/Afatinib/gdsc_manova_input_w5_unix.csv\", \"r\")\n",
      "    expressionFile = open(\"/Users/michael/Piccolo/Mutations/Afatinib/GDSC_SCANr_BrainArray_Symbols_Mapped_Cell_Lines_names.txt\", \"r\")\n",
      "\n",
      "\n",
      "    headerIndex = 0\n",
      "    drugName = 'BIBW2992_IC_50'\n",
      "    cellLines = []\n",
      "    similarLines = []\n",
      "    different= []\n",
      "\n",
      "\n",
      "    # Read first line and get index of a certain drug\n",
      "    headers = mutationFile.readline().strip().split(',')\n",
      "    for i, item in enumerate(headers):\n",
      "        if item == drugName:\n",
      "            headerIndex = i\n",
      "            print 'headerIndex:',headerIndex, item\n",
      "            break\n",
      "\n",
      "    # Check if drug response is blank\n",
      "    for i,line in enumerate(mutationFile):\n",
      "        lineItems = line.strip().split(',')\n",
      "        if lineItems[headerIndex] !=  '':\n",
      "            # Save name of cell line\n",
      "            cellLines.append(lineItems[0])\n",
      "\n",
      "    # Read in cell line names from gene expression outFile and find intersection with cellLines that have drug response\n",
      "    lineItems = expressionFile.readline().strip().split('\\t')\n",
      "    for c in lineItems:\n",
      "        if c == 'TT':\n",
      "            print 'tt'\n",
      "    for c in cellLines:\n",
      "        if c in lineItems:\n",
      "            similarLines.append(c)\n",
      "        else:\n",
      "            different.append(c)\n",
      "#     print len(similarLines), similarLines\n",
      "    # print len(compares), compares\n",
      "    # print len(different),different\n",
      "\n",
      "    \n",
      "    mutationFile.close()\n",
      "    expressionFile.close()\n",
      "    return similarLines\n",
      "\n"
     ],
     "language": "python",
     "metadata": {},
     "outputs": [],
     "prompt_number": 312
    },
    {
     "cell_type": "code",
     "collapsed": false,
     "input": [
      "def parseGeneExpressionBySimilarLines(similarFileName, lookingAtSpecificGene, geneLine1=1, geneLine2=2):\n",
      "    if lookingAtSpecificGene:\n",
      "        similarLines = findSimilarCellLinesREFACTOR()\n",
      "    else:\n",
      "        similarLines = findSimilarCellLines()\n",
      "        \n",
      "#     print 'Similar Lines', len(similarLines)\n",
      "    expressionFile = open(\"/Users/michael/Piccolo/Mutations/Afatinib/GDSC_SCANr_BrainArray_Symbols_Mapped_Cell_Lines_names.txt\", \"r\")\n",
      "    outFile = open(\"/Users/michael/Piccolo/Mutations/Afatinib/\"+ similarFileName +\".txt\", \"w\")\n",
      "    \n",
      "    matchingIndices = []\n",
      "    h = []\n",
      "      \n",
      "    headers = expressionFile.readline().strip().split('\\t')\n",
      "    for i,header in enumerate(headers):\n",
      "        if header in similarLines:\n",
      "#             if header in h:\n",
      "#                 print i,header\n",
      "            matchingIndices.append(i)\n",
      "            h.append(header)\n",
      "#     print 'matchingIndices', len(matchingIndices)\n",
      "    \n",
      "#     Write the matching headers\n",
      "    headerItems = [headers[i] for i in matchingIndices]\n",
      "    outFile.write(\"\\t\".join(headerItems) + \"\\n\")\n",
      "    \n",
      "    # Look for specific gene names\n",
      "    if lookingAtSpecificGene:\n",
      "        count = 2\n",
      "        for line in expressionFile:\n",
      "            lineItems = line.strip().split('\\t')\n",
      "            # TODO: this should be changed to loop through a list\n",
      "            if count == geneLine1 or count == geneLine2:\n",
      "                print 'count:', count, lineItems[0]\n",
      "                outItems = [lineItems[i] for i in matchingIndices]\n",
      "                outFile.write(\"\\t\".join(outItems) + \"\\n\")\n",
      "            count = count + 1\n",
      "    else:\n",
      "        # Write the matching columns\n",
      "        for line in expressionFile:\n",
      "            lineItems = line.strip().split('\\t')\n",
      "            outItems = [lineItems[i] for i in matchingIndices]\n",
      "            outFile.write(\"\\t\".join(outItems) + \"\\n\")\n",
      "        \n",
      "    expressionFile.close()\n",
      "    outFile.close()"
     ],
     "language": "python",
     "metadata": {},
     "outputs": [],
     "prompt_number": 313
    },
    {
     "cell_type": "code",
     "collapsed": false,
     "input": [
      "parseGeneExpressionBySimilarLines('similarCellLines_outFile', False)"
     ],
     "language": "python",
     "metadata": {},
     "outputs": [
      {
       "output_type": "stream",
       "stream": "stdout",
       "text": [
        "headerIndex: 185 BIBW2992_IC_50\n",
        "tt"
       ]
      },
      {
       "output_type": "stream",
       "stream": "stdout",
       "text": [
        "\n",
        "tt\n"
       ]
      }
     ],
     "prompt_number": 314
    },
    {
     "cell_type": "code",
     "collapsed": false,
     "input": [
      "def parseResponseOfSimilarLines(drugName, similarFileName, lookingAtSpecificGene):\n",
      "    if lookingAtSpecificGene:\n",
      "        similarLines = findSimilarCellLinesREFACTOR()\n",
      "    else:\n",
      "        similarLines = findSimilarCellLines()\n",
      "#     print 'Similar Lines', len(similarLines)#, similarLines\n",
      "    mutationFile = open(\"/Users/michael/Piccolo/Mutations/Afatinib/gdsc_manova_input_w5_unix.csv\", \"r\")\n",
      "    \n",
      "    responses = {}\n",
      "    drugIndex = 0\n",
      "    \n",
      "#     Get column index of drug\n",
      "    headers = mutationFile.readline().strip().split(',')\n",
      "    for i,header in enumerate(headers):\n",
      "        if header == drugName:\n",
      "            drugIndex = i\n",
      "            break\n",
      "#     print 'drugIndex:',drugIndex\n",
      "    \n",
      "#     Save drug response for each cell line similar between the two files - Response == 1, NoResponse == 0        \n",
      "    for line in mutationFile:\n",
      "        line = line.strip().split(',')\n",
      "        cellLineName = line[0]\n",
      "        if cellLineName in similarLines:\n",
      "            responses[cellLineName] = line[drugIndex]\n",
      "            \n",
      "#     Convert dictionary to list with order matching expression file\n",
      "    responsesList = []\n",
      "    similarCellLinesFile = open(\"/Users/michael/Piccolo/Mutations/Afatinib/\" + similarFileName + \".txt\", \"r\")\n",
      "    headers = similarCellLinesFile.readline().strip().split('\\t')\n",
      "#     print 'Cell lines from similar expression file:', len(headers)\n",
      "    for i,header in enumerate(headers):\n",
      "        drugResponse = 1 if (float(responses[header]) < 0) else 0\n",
      "        responsesList.append(drugResponse)\n",
      "    \n",
      "#     print 'responses dict size:', len(responses)\n",
      "#     print 'responses list size:', len(responsesList)\n",
      "        \n",
      "    similarCellLinesFile.close()\n",
      "    mutationFile.close()\n",
      "    \n",
      "    return responsesList"
     ],
     "language": "python",
     "metadata": {},
     "outputs": [],
     "prompt_number": 315
    },
    {
     "cell_type": "heading",
     "level": 3,
     "metadata": {},
     "source": [
      "*TODO: Average the gene expression data for those cell lines that have 2 columns of expression"
     ]
    },
    {
     "cell_type": "code",
     "collapsed": false,
     "input": [
      "responsesList = parseResponseOfSimilarLines('BIBW2992_IC_50', 'similarCellLines_outFile', False)"
     ],
     "language": "python",
     "metadata": {},
     "outputs": [
      {
       "output_type": "stream",
       "stream": "stdout",
       "text": [
        "headerIndex: 185 BIBW2992_IC_50\n",
        "tt"
       ]
      },
      {
       "output_type": "stream",
       "stream": "stdout",
       "text": [
        "\n",
        "tt\n"
       ]
      }
     ],
     "prompt_number": 316
    },
    {
     "cell_type": "code",
     "collapsed": false,
     "input": [
      " def classifyByGeneExpression(inExpressionFile, responsesList):\n",
      "\n",
      "        \n",
      "#     X = numpy.loadtxt(inExpressionFile, skiprows=1, unpack=True)\n",
      "    X = numpy.transpose(numpy.loadtxt(inExpressionFile, skiprows=1))\n",
      "    y = numpy.transpose(numpy.array(responsesList))\n",
      "    print len(X), len(y)\n",
      "\n",
      "    clf = svm.SVC(probability=True) \n",
      "    scores = cross_validation.cross_val_score(clf, X, y, cv=8, n_jobs=3)\n",
      "    print scores\n",
      "    print sum(scores) / float(len(scores))"
     ],
     "language": "python",
     "metadata": {},
     "outputs": [],
     "prompt_number": 317
    },
    {
     "cell_type": "code",
     "collapsed": false,
     "input": [
      "responsesList = parseResponseOfSimilarLines('BIBW2992_IC_50', 'similarCellLines_outFile', False)\n",
      "classifyByGeneExpression('similarCellLines_outFile.txt', responsesList)"
     ],
     "language": "python",
     "metadata": {},
     "outputs": [
      {
       "output_type": "stream",
       "stream": "stdout",
       "text": [
        "headerIndex: 185 BIBW2992_IC_50\n",
        "tt"
       ]
      },
      {
       "output_type": "stream",
       "stream": "stdout",
       "text": [
        "\n",
        "tt\n",
        "673"
       ]
      },
      {
       "output_type": "stream",
       "stream": "stdout",
       "text": [
        " 673\n"
       ]
      },
      {
       "ename": "KeyboardInterrupt",
       "evalue": "",
       "output_type": "pyerr",
       "traceback": [
        "\u001b[0;31m---------------------------------------------------------------------------\u001b[0m\n\u001b[0;31mKeyboardInterrupt\u001b[0m                         Traceback (most recent call last)",
        "\u001b[0;32m<ipython-input-318-1bdecfcb78be>\u001b[0m in \u001b[0;36m<module>\u001b[0;34m()\u001b[0m\n\u001b[1;32m      1\u001b[0m \u001b[0mresponsesList\u001b[0m \u001b[0;34m=\u001b[0m \u001b[0mparseResponseOfSimilarLines\u001b[0m\u001b[0;34m(\u001b[0m\u001b[0;34m'BIBW2992_IC_50'\u001b[0m\u001b[0;34m,\u001b[0m \u001b[0;34m'similarCellLines_outFile'\u001b[0m\u001b[0;34m,\u001b[0m \u001b[0mFalse\u001b[0m\u001b[0;34m)\u001b[0m\u001b[0;34m\u001b[0m\u001b[0m\n\u001b[0;32m----> 2\u001b[0;31m \u001b[0mclassifyByGeneExpression\u001b[0m\u001b[0;34m(\u001b[0m\u001b[0;34m'similarCellLines_outFile.txt'\u001b[0m\u001b[0;34m,\u001b[0m \u001b[0mresponsesList\u001b[0m\u001b[0;34m)\u001b[0m\u001b[0;34m\u001b[0m\u001b[0m\n\u001b[0m",
        "\u001b[0;32m<ipython-input-317-7b112fecc15e>\u001b[0m in \u001b[0;36mclassifyByGeneExpression\u001b[0;34m(inExpressionFile, responsesList)\u001b[0m\n\u001b[1;32m      8\u001b[0m \u001b[0;34m\u001b[0m\u001b[0m\n\u001b[1;32m      9\u001b[0m    \u001b[0mclf\u001b[0m \u001b[0;34m=\u001b[0m \u001b[0msvm\u001b[0m\u001b[0;34m.\u001b[0m\u001b[0mSVC\u001b[0m\u001b[0;34m(\u001b[0m\u001b[0mprobability\u001b[0m\u001b[0;34m=\u001b[0m\u001b[0mTrue\u001b[0m\u001b[0;34m)\u001b[0m\u001b[0;34m\u001b[0m\u001b[0m\n\u001b[0;32m---> 10\u001b[0;31m    \u001b[0mscores\u001b[0m \u001b[0;34m=\u001b[0m \u001b[0mcross_validation\u001b[0m\u001b[0;34m.\u001b[0m\u001b[0mcross_val_score\u001b[0m\u001b[0;34m(\u001b[0m\u001b[0mclf\u001b[0m\u001b[0;34m,\u001b[0m \u001b[0mX\u001b[0m\u001b[0;34m,\u001b[0m \u001b[0my\u001b[0m\u001b[0;34m,\u001b[0m \u001b[0mcv\u001b[0m\u001b[0;34m=\u001b[0m\u001b[0;36m8\u001b[0m\u001b[0;34m,\u001b[0m \u001b[0mn_jobs\u001b[0m\u001b[0;34m=\u001b[0m\u001b[0;36m3\u001b[0m\u001b[0;34m)\u001b[0m\u001b[0;34m\u001b[0m\u001b[0m\n\u001b[0m\u001b[1;32m     11\u001b[0m    \u001b[0;32mprint\u001b[0m \u001b[0mscores\u001b[0m\u001b[0;34m\u001b[0m\u001b[0m\n\u001b[1;32m     12\u001b[0m    \u001b[0;32mprint\u001b[0m \u001b[0msum\u001b[0m\u001b[0;34m(\u001b[0m\u001b[0mscores\u001b[0m\u001b[0;34m)\u001b[0m \u001b[0;34m/\u001b[0m \u001b[0mfloat\u001b[0m\u001b[0;34m(\u001b[0m\u001b[0mlen\u001b[0m\u001b[0;34m(\u001b[0m\u001b[0mscores\u001b[0m\u001b[0;34m)\u001b[0m\u001b[0;34m)\u001b[0m\u001b[0;34m\u001b[0m\u001b[0m\n",
        "\u001b[0;32m/Users/michael/anaconda/lib/python2.7/site-packages/sklearn/cross_validation.pyc\u001b[0m in \u001b[0;36mcross_val_score\u001b[0;34m(estimator, X, y, scoring, cv, n_jobs, verbose, fit_params, score_func, pre_dispatch)\u001b[0m\n\u001b[1;32m   1149\u001b[0m                                               \u001b[0mtrain\u001b[0m\u001b[0;34m,\u001b[0m \u001b[0mtest\u001b[0m\u001b[0;34m,\u001b[0m \u001b[0mverbose\u001b[0m\u001b[0;34m,\u001b[0m \u001b[0mNone\u001b[0m\u001b[0;34m,\u001b[0m\u001b[0;34m\u001b[0m\u001b[0m\n\u001b[1;32m   1150\u001b[0m                                               fit_params)\n\u001b[0;32m-> 1151\u001b[0;31m                       for train, test in cv)\n\u001b[0m\u001b[1;32m   1152\u001b[0m     \u001b[0;32mreturn\u001b[0m \u001b[0mnp\u001b[0m\u001b[0;34m.\u001b[0m\u001b[0marray\u001b[0m\u001b[0;34m(\u001b[0m\u001b[0mscores\u001b[0m\u001b[0;34m)\u001b[0m\u001b[0;34m[\u001b[0m\u001b[0;34m:\u001b[0m\u001b[0;34m,\u001b[0m \u001b[0;36m0\u001b[0m\u001b[0;34m]\u001b[0m\u001b[0;34m\u001b[0m\u001b[0m\n\u001b[1;32m   1153\u001b[0m \u001b[0;34m\u001b[0m\u001b[0m\n",
        "\u001b[0;32m/Users/michael/anaconda/lib/python2.7/site-packages/sklearn/externals/joblib/parallel.pyc\u001b[0m in \u001b[0;36m__call__\u001b[0;34m(self, iterable)\u001b[0m\n\u001b[1;32m    658\u001b[0m                 \u001b[0;31m# consumption.\u001b[0m\u001b[0;34m\u001b[0m\u001b[0;34m\u001b[0m\u001b[0m\n\u001b[1;32m    659\u001b[0m                 \u001b[0mself\u001b[0m\u001b[0;34m.\u001b[0m\u001b[0m_iterating\u001b[0m \u001b[0;34m=\u001b[0m \u001b[0mFalse\u001b[0m\u001b[0;34m\u001b[0m\u001b[0m\n\u001b[0;32m--> 660\u001b[0;31m             \u001b[0mself\u001b[0m\u001b[0;34m.\u001b[0m\u001b[0mretrieve\u001b[0m\u001b[0;34m(\u001b[0m\u001b[0;34m)\u001b[0m\u001b[0;34m\u001b[0m\u001b[0m\n\u001b[0m\u001b[1;32m    661\u001b[0m             \u001b[0;31m# Make sure that we get a last message telling us we are done\u001b[0m\u001b[0;34m\u001b[0m\u001b[0;34m\u001b[0m\u001b[0m\n\u001b[1;32m    662\u001b[0m             \u001b[0melapsed_time\u001b[0m \u001b[0;34m=\u001b[0m \u001b[0mtime\u001b[0m\u001b[0;34m.\u001b[0m\u001b[0mtime\u001b[0m\u001b[0;34m(\u001b[0m\u001b[0;34m)\u001b[0m \u001b[0;34m-\u001b[0m \u001b[0mself\u001b[0m\u001b[0;34m.\u001b[0m\u001b[0m_start_time\u001b[0m\u001b[0;34m\u001b[0m\u001b[0m\n",
        "\u001b[0;32m/Users/michael/anaconda/lib/python2.7/site-packages/sklearn/externals/joblib/parallel.pyc\u001b[0m in \u001b[0;36mretrieve\u001b[0;34m(self)\u001b[0m\n\u001b[1;32m    524\u001b[0m                             \u001b[0;31m# We can now allow subprocesses again\u001b[0m\u001b[0;34m\u001b[0m\u001b[0;34m\u001b[0m\u001b[0m\n\u001b[1;32m    525\u001b[0m                             \u001b[0mos\u001b[0m\u001b[0;34m.\u001b[0m\u001b[0menviron\u001b[0m\u001b[0;34m.\u001b[0m\u001b[0mpop\u001b[0m\u001b[0;34m(\u001b[0m\u001b[0;34m'__JOBLIB_SPAWNED_PARALLEL__'\u001b[0m\u001b[0;34m,\u001b[0m \u001b[0;36m0\u001b[0m\u001b[0;34m)\u001b[0m\u001b[0;34m\u001b[0m\u001b[0m\n\u001b[0;32m--> 526\u001b[0;31m                         \u001b[0;32mraise\u001b[0m \u001b[0mexception\u001b[0m\u001b[0;34m\u001b[0m\u001b[0m\n\u001b[0m\u001b[1;32m    527\u001b[0m                     \u001b[0;32melif\u001b[0m \u001b[0misinstance\u001b[0m\u001b[0;34m(\u001b[0m\u001b[0mexception\u001b[0m\u001b[0;34m,\u001b[0m \u001b[0mTransportableException\u001b[0m\u001b[0;34m)\u001b[0m\u001b[0;34m:\u001b[0m\u001b[0;34m\u001b[0m\u001b[0m\n\u001b[1;32m    528\u001b[0m                         \u001b[0;31m# Capture exception to add information on the local\u001b[0m\u001b[0;34m\u001b[0m\u001b[0;34m\u001b[0m\u001b[0m\n",
        "\u001b[0;31mKeyboardInterrupt\u001b[0m: "
       ]
      }
     ],
     "prompt_number": 318
    },
    {
     "cell_type": "heading",
     "level": 3,
     "metadata": {},
     "source": [
      "EGFR and KRAS expression on LUAD cell lines (needed quickly, refactor prior functions and delete this code duplication)"
     ]
    },
    {
     "cell_type": "code",
     "collapsed": false,
     "input": [
      " import sys\n",
      "import re\n",
      "\n",
      "def findSimilarCellLinesREFACTOR():\n",
      "    mutationFile = open(\"/Users/michael/Piccolo/Mutations/Afatinib/gdsc_manova_input_w5_unix.csv\", \"r\")\n",
      "    expressionFile = open(\"/Users/michael/Piccolo/Mutations/Afatinib/GDSC_SCANr_BrainArray_Symbols_Mapped_Cell_Lines_names.txt\", \"r\")\n",
      "\n",
      "\n",
      "    drugIndex = 0\n",
      "    drugName = 'BIBW2992_IC_50'\n",
      "    tissueIndex = '3'\n",
      "    tissue = 'lung_NSCLC_adenocarcinoma'\n",
      "    cellLines = []\n",
      "    similarLines = []\n",
      "    different= []\n",
      "\n",
      "    # Read first line and get index of a certain drug\n",
      "    headers = mutationFile.readline().strip().split(',')\n",
      "    for i, item in enumerate(headers):\n",
      "        if item == 'Tissue':\n",
      "            tissueIndex = i\n",
      "        if item == drugName:\n",
      "            drugIndex = i\n",
      "#             print 'drugIndex:',drugIndex, item\n",
      "#             print 'tissueIndex:', tissueIndex\n",
      "            break\n",
      "\n",
      "    # Check if drug response is blank and it is specific cancer type\n",
      "    for i,line in enumerate(mutationFile):\n",
      "        lineItems = line.strip().split(',')\n",
      "        if lineItems[drugIndex] !=  '' and lineItems[tissueIndex] == tissue:\n",
      "            # Save name of cell line\n",
      "            cellLines.append(lineItems[0])\n",
      "#             print lineItems[0], lineItems[tissueIndex]\n",
      "\n",
      "\n",
      "\n",
      "    # Read in cell line names from gene expression outFile and find intersection with cellLines that have drug response\n",
      "    lineItems = expressionFile.readline().strip().split('\\t')\n",
      "    for c in cellLines:\n",
      "        if c in lineItems:\n",
      "            # Append those column names that match\n",
      "            similarLines.append(c)\n",
      "        else:\n",
      "            different.append(c)\n",
      "    \n",
      "    mutationFile.close()\n",
      "    expressionFile.close()\n",
      "    return similarLines\n",
      "\n"
     ],
     "language": "python",
     "metadata": {},
     "outputs": [],
     "prompt_number": 327
    },
    {
     "cell_type": "code",
     "collapsed": false,
     "input": [
      "# KRAS and EGFR\n",
      "parseGeneExpressionBySimilarLines('similarCellLines_outFile_EGFRKRAS', True, 4705, 1880) \n",
      "responsesList = parseResponseOfSimilarLines('BIBW2992_IC_50', 'similarCellLines_outFile_EGFRKRAS', True)\n",
      "# classifyByGeneExpression('similarCellLines_outFile_EGFRKRAS.txt', responsesList)\n",
      "X = numpy.transpose(numpy.loadtxt('similarCellLines_outFile_EGFRKRAS.txt', skiprows=1))\n",
      "y = numpy.transpose(numpy.array(responsesList))\n",
      "print X,len(X), len(y)\n",
      "\n",
      "clf = svm.SVC(probability=True) \n",
      "scores = cross_validation.cross_val_score(clf, X, y, cv=8, n_jobs=3)\n",
      "print scores\n",
      "print sum(scores) / float(len(scores))"
     ],
     "language": "python",
     "metadata": {},
     "outputs": [
      {
       "output_type": "stream",
       "stream": "stdout",
       "text": [
        "count: 1880 EGFR\n",
        "count:"
       ]
      },
      {
       "output_type": "stream",
       "stream": "stdout",
       "text": [
        " 4705 KRAS\n",
        "[[ 0.84500338  1.33331999]\n",
        " [ 0.6185483   1.05515261]\n",
        " [ 1.28737983  1.53828527]\n",
        " [ 0.7751787   1.39982663]\n",
        " [ 0.38222803  1.30123784]\n",
        " [ 0.42206996  1.57965793]\n",
        " [ 0.41466935  2.2211538 ]\n",
        " [ 0.46571141  1.20931157]\n",
        " [ 0.38952233  1.92984866]\n",
        " [ 1.15891315  1.45701132]\n",
        " [ 0.46138842  1.34428076]\n",
        " [ 0.33345399  1.5602759 ]\n",
        " [ 0.66447197  1.68317787]\n",
        " [ 0.63446344  1.21105519]\n",
        " [ 0.23333845  1.94040826]\n",
        " [ 0.64589092  0.95209368]\n",
        " [ 0.33718478  1.65601106]\n",
        " [ 0.69920576  1.0640934 ]\n",
        " [ 0.20942443  2.23338631]\n",
        " [ 0.31598364  1.36178342]\n",
        " [ 0.12640031  2.58529795]\n",
        " [ 1.8647957   1.77084539]\n",
        " [ 0.73462813  0.87490629]\n",
        " [ 0.31147041  2.07199919]\n",
        " [ 0.62042181  1.58417025]\n",
        " [ 1.01936691  0.99060684]\n",
        " [ 0.70059161  1.40099877]\n",
        " [ 0.94350808  1.30893689]\n",
        " [ 1.18675131  0.69577612]\n",
        " [ 0.22368243  1.56448607]\n",
        " [ 0.19488038  1.63298103]\n",
        " [ 0.46387737  1.58146859]\n",
        " [ 0.40067963  2.3153463 ]\n",
        " [ 0.56767856  1.27281368]\n",
        " [ 0.7118549   0.91368847]\n",
        " [ 0.87932269  1.33821262]\n",
        " [ 0.35476005  1.60736521]\n",
        " [ 0.90603146  1.45306549]\n",
        " [ 0.35703975  1.58105215]\n",
        " [ 0.56757952  1.30515517]\n",
        " [ 0.25455457  2.41876461]\n",
        " [ 0.17098818  1.89423677]\n",
        " [ 0.32910845  1.31552773]\n",
        " [ 0.41006824  1.6060969 ]\n",
        " [ 0.63793793  1.26981762]\n",
        " [ 0.2901649   1.84742633]\n",
        " [ 1.24157089  1.53329713]\n",
        " [ 0.25106362  1.83375913]\n",
        " [ 0.54687808  1.22977107]]"
       ]
      },
      {
       "output_type": "stream",
       "stream": "stdout",
       "text": [
        " 49 49\n"
       ]
      },
      {
       "output_type": "stream",
       "stream": "stdout",
       "text": [
        "[ 0.71428571  0.83333333  0.83333333  0.83333333  0.83333333  0.83333333\n",
        "  0.83333333  0.83333333]\n",
        "0.818452380952\n"
       ]
      }
     ],
     "prompt_number": 328
    },
    {
     "cell_type": "code",
     "collapsed": false,
     "input": [
      "from random import randint\n",
      "\n",
      "scoreList = []\n",
      "\n",
      "for i in range(50):\n",
      "    ran1 = randint(2,6000) \n",
      "    ran2 = randint(2,6000) \n",
      "    parseGeneExpressionBySimilarLines('similarCellLines_outFile_random', True, ran1, ran2) \n",
      "    responsesList = parseResponseOfSimilarLines('BIBW2992_IC_50', 'similarCellLines_outFile_random', True)\n",
      "    # classifyByGeneExpression('similarCellLines_outFile_random.txt', responsesList)\n",
      "    \n",
      "    X = numpy.transpose(numpy.loadtxt('/Users/michael/Piccolo/Mutations/Afatinib/similarCellLines_outFile_test0.txt',  skiprows=1))\n",
      "    y = numpy.transpose(numpy.array(responsesList))\n",
      "#     print X\n",
      "#     print y\n",
      "#     print  len(X), len(y)\n",
      "\n",
      "    cl = svm.SVC(probability=True) \n",
      "    scores = cross_validation.cross_val_score(cl, X, y, cv=8, n_jobs=4)\n",
      "#     print scores\n",
      "    print sum(scores) / float(len(scores))\n",
      "    scoreList.append(sum(scores) / float(len(scores)))\n",
      "print scoreList"
     ],
     "language": "python",
     "metadata": {},
     "outputs": [
      {
       "output_type": "stream",
       "stream": "stdout",
       "text": [
        "count: 2802 DDX58\n",
        "count:"
       ]
      },
      {
       "output_type": "stream",
       "stream": "stdout",
       "text": [
        " 4489 TNFRSF9\n"
       ]
      },
      {
       "output_type": "stream",
       "stream": "stdout",
       "text": [
        "0.818452380952\n",
        "count:"
       ]
      },
      {
       "output_type": "stream",
       "stream": "stdout",
       "text": [
        " 4341 ICAM2\n",
        "count:"
       ]
      },
      {
       "output_type": "stream",
       "stream": "stdout",
       "text": [
        " 5652 SERPINA5\n"
       ]
      },
      {
       "output_type": "stream",
       "stream": "stdout",
       "text": [
        "0.818452380952\n",
        "count:"
       ]
      },
      {
       "output_type": "stream",
       "stream": "stdout",
       "text": [
        " 96 LOC100507424\n",
        "count:"
       ]
      },
      {
       "output_type": "stream",
       "stream": "stdout",
       "text": [
        " 3967 SNX10\n"
       ]
      },
      {
       "output_type": "stream",
       "stream": "stdout",
       "text": [
        "0.818452380952\n",
        "count:"
       ]
      },
      {
       "output_type": "stream",
       "stream": "stdout",
       "text": [
        " 195 FARP1\n",
        "count:"
       ]
      },
      {
       "output_type": "stream",
       "stream": "stdout",
       "text": [
        " 5756 WBP5\n"
       ]
      },
      {
       "output_type": "stream",
       "stream": "stdout",
       "text": [
        "0.818452380952\n",
        "count:"
       ]
      },
      {
       "output_type": "stream",
       "stream": "stdout",
       "text": [
        " 500 HYOU1\n",
        "count:"
       ]
      },
      {
       "output_type": "stream",
       "stream": "stdout",
       "text": [
        " 4078 HAS2\n"
       ]
      },
      {
       "output_type": "stream",
       "stream": "stdout",
       "text": [
        "0.818452380952\n",
        "count:"
       ]
      },
      {
       "output_type": "stream",
       "stream": "stdout",
       "text": [
        " 2858 TMEM2\n",
        "count:"
       ]
      },
      {
       "output_type": "stream",
       "stream": "stdout",
       "text": [
        " 4501 IMPG1\n"
       ]
      },
      {
       "output_type": "stream",
       "stream": "stdout",
       "text": [
        "0.818452380952\n",
        "count:"
       ]
      },
      {
       "output_type": "stream",
       "stream": "stdout",
       "text": [
        " 4587 JAK2\n",
        "count: 5516 P4HB\n"
       ]
      },
      {
       "output_type": "stream",
       "stream": "stdout",
       "text": [
        "0.818452380952\n",
        "count:"
       ]
      },
      {
       "output_type": "stream",
       "stream": "stdout",
       "text": [
        " 1150 PWWP2A\n",
        "count:"
       ]
      },
      {
       "output_type": "stream",
       "stream": "stdout",
       "text": [
        " 2423 TAB2\n"
       ]
      },
      {
       "output_type": "stream",
       "stream": "stdout",
       "text": [
        "0.818452380952\n",
        "count:"
       ]
      },
      {
       "output_type": "stream",
       "stream": "stdout",
       "text": [
        " 2006 ERF\n",
        "count: 2592 FMOD\n"
       ]
      },
      {
       "output_type": "stream",
       "stream": "stdout",
       "text": [
        "0.818452380952\n",
        "count:"
       ]
      },
      {
       "output_type": "stream",
       "stream": "stdout",
       "text": [
        " 3020 GAK\n",
        "count: 4019 FTSJ2\n"
       ]
      },
      {
       "output_type": "stream",
       "stream": "stdout",
       "text": [
        "0.818452380952\n",
        "count:"
       ]
      },
      {
       "output_type": "stream",
       "stream": "stdout",
       "text": [
        " 139 TSPAN3\n",
        "count:"
       ]
      },
      {
       "output_type": "stream",
       "stream": "stdout",
       "text": [
        " 2925 ALPPL2\n"
       ]
      },
      {
       "output_type": "stream",
       "stream": "stdout",
       "text": [
        "0.818452380952\n",
        "count:"
       ]
      },
      {
       "output_type": "stream",
       "stream": "stdout",
       "text": [
        " 2848 PLD3\n",
        "count:"
       ]
      },
      {
       "output_type": "stream",
       "stream": "stdout",
       "text": [
        " 4825 LIMS1\n"
       ]
      },
      {
       "output_type": "stream",
       "stream": "stdout",
       "text": [
        "0.818452380952\n",
        "count:"
       ]
      },
      {
       "output_type": "stream",
       "stream": "stdout",
       "text": [
        " 262 SLC35B1\n",
        "count: 615 LBX1\n"
       ]
      },
      {
       "output_type": "stream",
       "stream": "stdout",
       "text": [
        "0.818452380952\n",
        "count:"
       ]
      },
      {
       "output_type": "stream",
       "stream": "stdout",
       "text": [
        " 4985 MCM2\n",
        "count: 5218 MYL2\n"
       ]
      },
      {
       "output_type": "stream",
       "stream": "stdout",
       "text": [
        "0.818452380952\n",
        "count:"
       ]
      },
      {
       "output_type": "stream",
       "stream": "stdout",
       "text": [
        " 1016 ADCY6\n",
        "count:"
       ]
      },
      {
       "output_type": "stream",
       "stream": "stdout",
       "text": [
        " 4836 LMAN1\n"
       ]
      },
      {
       "output_type": "stream",
       "stream": "stdout",
       "text": [
        "0.818452380952\n",
        "count:"
       ]
      },
      {
       "output_type": "stream",
       "stream": "stdout",
       "text": [
        " 2909 FRK\n",
        "count: 3270 NKX2-8\n"
       ]
      },
      {
       "ename": "KeyboardInterrupt",
       "evalue": "",
       "output_type": "pyerr",
       "traceback": [
        "\u001b[0;31m---------------------------------------------------------------------------\u001b[0m\n\u001b[0;31mKeyboardInterrupt\u001b[0m                         Traceback (most recent call last)",
        "\u001b[0;32m<ipython-input-329-3275a0dc4354>\u001b[0m in \u001b[0;36m<module>\u001b[0;34m()\u001b[0m\n\u001b[1;32m      6\u001b[0m     \u001b[0mran1\u001b[0m \u001b[0;34m=\u001b[0m \u001b[0mrandint\u001b[0m\u001b[0;34m(\u001b[0m\u001b[0;36m2\u001b[0m\u001b[0;34m,\u001b[0m\u001b[0;36m6000\u001b[0m\u001b[0;34m)\u001b[0m\u001b[0;34m\u001b[0m\u001b[0m\n\u001b[1;32m      7\u001b[0m     \u001b[0mran2\u001b[0m \u001b[0;34m=\u001b[0m \u001b[0mrandint\u001b[0m\u001b[0;34m(\u001b[0m\u001b[0;36m2\u001b[0m\u001b[0;34m,\u001b[0m\u001b[0;36m6000\u001b[0m\u001b[0;34m)\u001b[0m\u001b[0;34m\u001b[0m\u001b[0m\n\u001b[0;32m----> 8\u001b[0;31m     \u001b[0mparseGeneExpressionBySimilarLines\u001b[0m\u001b[0;34m(\u001b[0m\u001b[0;34m'similarCellLines_outFile_random'\u001b[0m\u001b[0;34m,\u001b[0m \u001b[0mTrue\u001b[0m\u001b[0;34m,\u001b[0m \u001b[0mran1\u001b[0m\u001b[0;34m,\u001b[0m \u001b[0mran2\u001b[0m\u001b[0;34m)\u001b[0m\u001b[0;34m\u001b[0m\u001b[0m\n\u001b[0m\u001b[1;32m      9\u001b[0m     \u001b[0mresponsesList\u001b[0m \u001b[0;34m=\u001b[0m \u001b[0mparseResponseOfSimilarLines\u001b[0m\u001b[0;34m(\u001b[0m\u001b[0;34m'BIBW2992_IC_50'\u001b[0m\u001b[0;34m,\u001b[0m \u001b[0;34m'similarCellLines_outFile_random'\u001b[0m\u001b[0;34m,\u001b[0m \u001b[0mTrue\u001b[0m\u001b[0;34m)\u001b[0m\u001b[0;34m\u001b[0m\u001b[0m\n\u001b[1;32m     10\u001b[0m     \u001b[0;31m# classifyByGeneExpression('similarCellLines_outFile_random.txt', responsesList)\u001b[0m\u001b[0;34m\u001b[0m\u001b[0;34m\u001b[0m\u001b[0m\n",
        "\u001b[0;32m<ipython-input-313-3794693ff924>\u001b[0m in \u001b[0;36mparseGeneExpressionBySimilarLines\u001b[0;34m(similarFileName, lookingAtSpecificGene, geneLine1, geneLine2)\u001b[0m\n\u001b[1;32m     29\u001b[0m         \u001b[0mcount\u001b[0m \u001b[0;34m=\u001b[0m \u001b[0;36m2\u001b[0m\u001b[0;34m\u001b[0m\u001b[0m\n\u001b[1;32m     30\u001b[0m         \u001b[0;32mfor\u001b[0m \u001b[0mline\u001b[0m \u001b[0;32min\u001b[0m \u001b[0mexpressionFile\u001b[0m\u001b[0;34m:\u001b[0m\u001b[0;34m\u001b[0m\u001b[0m\n\u001b[0;32m---> 31\u001b[0;31m             \u001b[0mlineItems\u001b[0m \u001b[0;34m=\u001b[0m \u001b[0mline\u001b[0m\u001b[0;34m.\u001b[0m\u001b[0mstrip\u001b[0m\u001b[0;34m(\u001b[0m\u001b[0;34m)\u001b[0m\u001b[0;34m.\u001b[0m\u001b[0msplit\u001b[0m\u001b[0;34m(\u001b[0m\u001b[0;34m'\\t'\u001b[0m\u001b[0;34m)\u001b[0m\u001b[0;34m\u001b[0m\u001b[0m\n\u001b[0m\u001b[1;32m     32\u001b[0m             \u001b[0;31m# TODO: this should be changed to loop through a list\u001b[0m\u001b[0;34m\u001b[0m\u001b[0;34m\u001b[0m\u001b[0m\n\u001b[1;32m     33\u001b[0m             \u001b[0;32mif\u001b[0m \u001b[0mcount\u001b[0m \u001b[0;34m==\u001b[0m \u001b[0mgeneLine1\u001b[0m \u001b[0;32mor\u001b[0m \u001b[0mcount\u001b[0m \u001b[0;34m==\u001b[0m \u001b[0mgeneLine2\u001b[0m\u001b[0;34m:\u001b[0m\u001b[0;34m\u001b[0m\u001b[0m\n",
        "\u001b[0;31mKeyboardInterrupt\u001b[0m: "
       ]
      }
     ],
     "prompt_number": 329
    },
    {
     "cell_type": "code",
     "collapsed": false,
     "input": [],
     "language": "python",
     "metadata": {},
     "outputs": [],
     "prompt_number": 909
    },
    {
     "cell_type": "code",
     "collapsed": false,
     "input": [],
     "language": "python",
     "metadata": {},
     "outputs": []
    }
   ],
   "metadata": {}
  }
 ]
}